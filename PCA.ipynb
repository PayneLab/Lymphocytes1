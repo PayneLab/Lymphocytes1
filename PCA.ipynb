{
 "cells": [
  {
   "cell_type": "markdown",
   "metadata": {},
   "source": [
    "## Primary Component Analysis\n",
    "We use this notebook to show the reproducibility within each cell type by plotting primary component analysis."
   ]
  },
  {
   "cell_type": "markdown",
   "metadata": {},
   "source": [
    "First, we import our loader module. This brings the functions defined there (in our repository at ~/load_data.py) into scope so we can use them in this script. Then we can load our data and store it as <code>data_raw</code>."
   ]
  },
  {
   "cell_type": "code",
   "execution_count": 1,
   "metadata": {},
   "outputs": [],
   "source": [
    "import load_data\n",
    "data_raw = load_data.load_max_quant()"
   ]
  },
  {
   "cell_type": "markdown",
   "metadata": {},
   "source": [
    "Now we normalize the data."
   ]
  },
  {
   "cell_type": "code",
   "execution_count": 2,
   "metadata": {},
   "outputs": [],
   "source": [
    "from numpy import nan\n",
    "from numpy import log2\n",
    "from statistics import median\n",
    "\n",
    "data_log2 = log2(data_raw.replace(0,nan))\n",
    "data = data_log2.apply(lambda series: series-median(series.dropna()))"
   ]
  },
  {
   "cell_type": "markdown",
   "metadata": {},
   "source": [
    "Here we call the PCA function from <code>sklearn</code>."
   ]
  },
  {
   "cell_type": "code",
   "execution_count": 3,
   "metadata": {},
   "outputs": [
    {
     "name": "stdout",
     "output_type": "stream",
     "text": [
      "Explained variation per principal component: [0.34293377 0.16484389 0.09198911 0.08677846 0.07900545]\n"
     ]
    }
   ],
   "source": [
    "from sklearn.decomposition import PCA\n",
    "import matplotlib.pyplot as plt\n",
    "import math\n",
    "\n",
    "import numpy as np\n",
    "import pandas as pd\n",
    "\n",
    "pca = PCA(n_components=5)\n",
    "\n",
    "alist=data.values.flatten()\n",
    "nan_appoximate = float(alist[math.ceil(float(len(alist))*.01)])\n",
    "\n",
    "pca_result = pca.fit_transform(np.nan_to_num(data.transpose(), nan=nan_appoximate))\n",
    "print('Explained variation per principal component: {}'.format(pca.explained_variance_ratio_))"
   ]
  },
  {
   "cell_type": "markdown",
   "metadata": {},
   "source": [
    "Here we visualize the data."
   ]
  },
  {
   "cell_type": "code",
   "execution_count": 6,
   "metadata": {},
   "outputs": [
    {
     "data": {
      "image/png": "[encoded data removed]",
      "text/plain": [
       "<Figure size 432x288 with 1 Axes>"
      ]
     },
     "metadata": {
      "needs_background": "light"
     },
     "output_type": "display_data"
    }
   ],
   "source": [
    "samples=np.array(data.columns.values)\n",
    "cell_types = [\"1_B\",\"1_T\"] #Cell types; these strings are in the sample names of those types\n",
    "\n",
    "for cell_type in cell_types:\n",
    "    cells_of_type = list(i for i,s in enumerate(samples) if cell_type in s)\n",
    "    plt.scatter(pca_result[cells_of_type,0],pca_result[cells_of_type,1])\n",
    "    \n",
    "plt.legend(['B cells', \"T cells\"])#, loc='lower center')\n",
    "plt.show()"
   ]
  },
  {
   "cell_type": "markdown",
   "metadata": {},
   "source": [
    "The cells group by type."
   ]
  }
 ],
 "metadata": {
  "kernelspec": {
   "display_name": "Python 3",
   "language": "python",
   "name": "python3"
  },
  "language_info": {
   "codemirror_mode": {
    "name": "ipython",
    "version": 3
   },
   "file_extension": ".py",
   "mimetype": "text/x-python",
   "name": "python",
   "nbconvert_exporter": "python",
   "pygments_lexer": "ipython3",
   "version": "3.7.7"
  }
 },
 "nbformat": 4,
 "nbformat_minor": 4
}
