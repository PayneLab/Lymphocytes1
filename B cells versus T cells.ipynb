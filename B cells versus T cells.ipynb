{
 "cells": [
  {
   "cell_type": "markdown",
   "metadata": {},
   "source": [
    "## B cells versus T cells\n",
    "The data used in this notebook is lymphocyte data for one patient's B cells and T cells. We use this data to show the proteome variation between the cell types. Here, we note presence/absense changes and quantify fold changes using a T test.\n"
   ]
  },
  {
   "cell_type": "markdown",
   "metadata": {},
   "source": [
    "First, we import our loader module. This brings the functions defined there (in our repository at ~/load_data.py) into scope so we can use them in this script. Then we can load our data and store it as <code>data</code>.\n",
    "\n",
    "Calling <code>head</code> shows the first several lines of the dataframe, which provides an idea of the type of data present and the structure of the dataframe."
   ]
  },
  {
   "cell_type": "code",
   "execution_count": 1,
   "metadata": {},
   "outputs": [
    {
     "data": {
      "text/html": [
       "<div>\n",
       "<style scoped>\n",
       "    .dataframe tbody tr th:only-of-type {\n",
       "        vertical-align: middle;\n",
       "    }\n",
       "\n",
       "    .dataframe tbody tr th {\n",
       "        vertical-align: top;\n",
       "    }\n",
       "\n",
       "    .dataframe thead th {\n",
       "        text-align: right;\n",
       "    }\n",
       "</style>\n",
       "<table border=\"1\" class=\"dataframe\">\n",
       "  <thead>\n",
       "    <tr style=\"text-align: right;\">\n",
       "      <th></th>\n",
       "      <th>Intensity 1_B_C10</th>\n",
       "      <th>Intensity 1_B_C11</th>\n",
       "      <th>Intensity 1_B_C12</th>\n",
       "      <th>Intensity 1_B_C13</th>\n",
       "      <th>Intensity 1_B_C9</th>\n",
       "      <th>Intensity 1_T_D10</th>\n",
       "      <th>Intensity 1_T_D11</th>\n",
       "      <th>Intensity 1_T_D12</th>\n",
       "      <th>Intensity 1_T_D13</th>\n",
       "      <th>Intensity 1_T_D9</th>\n",
       "    </tr>\n",
       "    <tr>\n",
       "      <th>Protein IDs</th>\n",
       "      <th></th>\n",
       "      <th></th>\n",
       "      <th></th>\n",
       "      <th></th>\n",
       "      <th></th>\n",
       "      <th></th>\n",
       "      <th></th>\n",
       "      <th></th>\n",
       "      <th></th>\n",
       "      <th></th>\n",
       "    </tr>\n",
       "  </thead>\n",
       "  <tbody>\n",
       "    <tr>\n",
       "      <th>P0DPI2;A0A0B4J2D5</th>\n",
       "      <td>265300</td>\n",
       "      <td>248290</td>\n",
       "      <td>1878900</td>\n",
       "      <td>289210</td>\n",
       "      <td>0</td>\n",
       "      <td>0</td>\n",
       "      <td>0</td>\n",
       "      <td>0</td>\n",
       "      <td>0</td>\n",
       "      <td>654710</td>\n",
       "    </tr>\n",
       "    <tr>\n",
       "      <th>A0AVT1</th>\n",
       "      <td>0</td>\n",
       "      <td>0</td>\n",
       "      <td>440250</td>\n",
       "      <td>139370</td>\n",
       "      <td>0</td>\n",
       "      <td>0</td>\n",
       "      <td>303590</td>\n",
       "      <td>0</td>\n",
       "      <td>0</td>\n",
       "      <td>0</td>\n",
       "    </tr>\n",
       "    <tr>\n",
       "      <th>A6NHQ2</th>\n",
       "      <td>126410</td>\n",
       "      <td>0</td>\n",
       "      <td>0</td>\n",
       "      <td>89903</td>\n",
       "      <td>0</td>\n",
       "      <td>263160</td>\n",
       "      <td>0</td>\n",
       "      <td>0</td>\n",
       "      <td>110120</td>\n",
       "      <td>0</td>\n",
       "    </tr>\n",
       "    <tr>\n",
       "      <th>A6NI72;P14598;A8MVU1</th>\n",
       "      <td>1246500</td>\n",
       "      <td>1821600</td>\n",
       "      <td>3189500</td>\n",
       "      <td>2912100</td>\n",
       "      <td>1045700</td>\n",
       "      <td>0</td>\n",
       "      <td>0</td>\n",
       "      <td>0</td>\n",
       "      <td>0</td>\n",
       "      <td>0</td>\n",
       "    </tr>\n",
       "    <tr>\n",
       "      <th>P62308;A8MWD9</th>\n",
       "      <td>0</td>\n",
       "      <td>305850</td>\n",
       "      <td>0</td>\n",
       "      <td>0</td>\n",
       "      <td>0</td>\n",
       "      <td>0</td>\n",
       "      <td>0</td>\n",
       "      <td>0</td>\n",
       "      <td>0</td>\n",
       "      <td>372880</td>\n",
       "    </tr>\n",
       "  </tbody>\n",
       "</table>\n",
       "</div>"
      ],
      "text/plain": [
       "                      Intensity 1_B_C10  Intensity 1_B_C11  Intensity 1_B_C12  \\\n",
       "Protein IDs                                                                     \n",
       "P0DPI2;A0A0B4J2D5                265300             248290            1878900   \n",
       "A0AVT1                                0                  0             440250   \n",
       "A6NHQ2                           126410                  0                  0   \n",
       "A6NI72;P14598;A8MVU1            1246500            1821600            3189500   \n",
       "P62308;A8MWD9                         0             305850                  0   \n",
       "\n",
       "                      Intensity 1_B_C13  Intensity 1_B_C9  Intensity 1_T_D10  \\\n",
       "Protein IDs                                                                    \n",
       "P0DPI2;A0A0B4J2D5                289210                 0                  0   \n",
       "A0AVT1                           139370                 0                  0   \n",
       "A6NHQ2                            89903                 0             263160   \n",
       "A6NI72;P14598;A8MVU1            2912100           1045700                  0   \n",
       "P62308;A8MWD9                         0                 0                  0   \n",
       "\n",
       "                      Intensity 1_T_D11  Intensity 1_T_D12  Intensity 1_T_D13  \\\n",
       "Protein IDs                                                                     \n",
       "P0DPI2;A0A0B4J2D5                     0                  0                  0   \n",
       "A0AVT1                           303590                  0                  0   \n",
       "A6NHQ2                                0                  0             110120   \n",
       "A6NI72;P14598;A8MVU1                  0                  0                  0   \n",
       "P62308;A8MWD9                         0                  0                  0   \n",
       "\n",
       "                      Intensity 1_T_D9  \n",
       "Protein IDs                             \n",
       "P0DPI2;A0A0B4J2D5               654710  \n",
       "A0AVT1                               0  \n",
       "A6NHQ2                               0  \n",
       "A6NI72;P14598;A8MVU1                 0  \n",
       "P62308;A8MWD9                   372880  "
      ]
     },
     "execution_count": 1,
     "metadata": {},
     "output_type": "execute_result"
    }
   ],
   "source": [
    "import load_data\n",
    "data_raw = load_data.load_max_quant()\n",
    "data_raw.head()"
   ]
  },
  {
   "cell_type": "markdown",
   "metadata": {},
   "source": [
    "Before any analysis, we normalize across runs."
   ]
  },
  {
   "cell_type": "code",
   "execution_count": 2,
   "metadata": {},
   "outputs": [],
   "source": [
    "from numpy import nan\n",
    "from numpy import log2\n",
    "from statistics import median\n",
    "\n",
    "data_log2 = log2(data_raw.replace(0,nan))\n",
    "data_log2_normalized = data_log2.apply(lambda series: series-median(series.dropna()))"
   ]
  },
  {
   "cell_type": "markdown",
   "metadata": {},
   "source": [
    "These are some methods that check if a value was measured or not and if the protein was measured in each type."
   ]
  },
  {
   "cell_type": "code",
   "execution_count": 3,
   "metadata": {},
   "outputs": [],
   "source": [
    "import data_utils"
   ]
  },
  {
   "cell_type": "markdown",
   "metadata": {},
   "source": [
    "Here we record which proteins are only identified in one cell type. We'll set these aside for now, in the <code>data_in_one_type</code> dataframe. Note that <code>min_reps</code> is the minimum number of replicates required to list a protein as present in one type. This can be changed, i.e., <code>min_reps=5</code> to determine the proteins identified in all 5 replicates of a single type; do not set it to a number greater than the replicates run or no proteins will be returned."
   ]
  },
  {
   "cell_type": "code",
   "execution_count": 4,
   "metadata": {},
   "outputs": [
    {
     "name": "stdout",
     "output_type": "stream",
     "text": [
      "T_cell    39\n",
      "B_cell    38\n",
      "dtype: int64\n"
     ]
    }
   ],
   "source": [
    "present_only_in = data_log2_normalized.apply(data_utils.check_presence_absence, axis=1, min_reps=3).dropna()\n",
    "print(present_only_in.value_counts())\n",
    "data_in_one_type =data_log2_normalized.loc[present_only_in.index]\n",
    "data_in_one_type['Type'] = present_only_in"
   ]
  },
  {
   "cell_type": "markdown",
   "metadata": {},
   "source": [
    "Next, we select the proteins that are measured in at least three samples from each group, allowing the calculations to proceed without imputed zero-handling."
   ]
  },
  {
   "cell_type": "code",
   "execution_count": 5,
   "metadata": {},
   "outputs": [],
   "source": [
    "indecies = data_log2_normalized.apply(data_utils.check_three_of_each_type, axis=1)\n",
    "data = data_log2_normalized[indecies]"
   ]
  },
  {
   "cell_type": "markdown",
   "metadata": {},
   "source": [
    "Finally, we will calculate the coeffients of variation for each protein within each of the two cell types. "
   ]
  },
  {
   "cell_type": "code",
   "execution_count": 6,
   "metadata": {},
   "outputs": [
    {
     "name": "stderr",
     "output_type": "stream",
     "text": [
      "D:\\Anaconda3\\lib\\site-packages\\scipy\\stats\\_distn_infrastructure.py:1932: RuntimeWarning: invalid value encountered in less_equal\n",
      "  cond2 = cond0 & (x <= _a)\n"
     ]
    }
   ],
   "source": [
    "#Call ttest function\n",
    "tstats = data.apply(data_utils.ttest_wrapper, axis=1)"
   ]
  },
  {
   "cell_type": "code",
   "execution_count": 7,
   "metadata": {},
   "outputs": [],
   "source": [
    "tstats['log2(B)-log2(T)'] = data.apply(data_utils.get_fold_changes, axis=1)\n",
    "#tstats['log2 Fold Change'] = log2(tstats['fold_change'])"
   ]
  },
  {
   "cell_type": "code",
   "execution_count": 8,
   "metadata": {},
   "outputs": [
    {
     "data": {
      "text/html": [
       "<div>\n",
       "<style scoped>\n",
       "    .dataframe tbody tr th:only-of-type {\n",
       "        vertical-align: middle;\n",
       "    }\n",
       "\n",
       "    .dataframe tbody tr th {\n",
       "        vertical-align: top;\n",
       "    }\n",
       "\n",
       "    .dataframe thead th {\n",
       "        text-align: right;\n",
       "    }\n",
       "</style>\n",
       "<table border=\"1\" class=\"dataframe\">\n",
       "  <thead>\n",
       "    <tr style=\"text-align: right;\">\n",
       "      <th></th>\n",
       "      <th>Intensity 1_B_C10</th>\n",
       "      <th>Intensity 1_B_C11</th>\n",
       "      <th>Intensity 1_B_C12</th>\n",
       "      <th>Intensity 1_B_C13</th>\n",
       "      <th>Intensity 1_B_C9</th>\n",
       "      <th>Intensity 1_T_D10</th>\n",
       "      <th>Intensity 1_T_D11</th>\n",
       "      <th>Intensity 1_T_D12</th>\n",
       "      <th>Intensity 1_T_D13</th>\n",
       "      <th>Intensity 1_T_D9</th>\n",
       "    </tr>\n",
       "    <tr>\n",
       "      <th>Protein IDs</th>\n",
       "      <th></th>\n",
       "      <th></th>\n",
       "      <th></th>\n",
       "      <th></th>\n",
       "      <th></th>\n",
       "      <th></th>\n",
       "      <th></th>\n",
       "      <th></th>\n",
       "      <th></th>\n",
       "      <th></th>\n",
       "    </tr>\n",
       "  </thead>\n",
       "  <tbody>\n",
       "    <tr>\n",
       "      <th>B0I1T2</th>\n",
       "      <td>-0.646875</td>\n",
       "      <td>-2.001789</td>\n",
       "      <td>-0.923008</td>\n",
       "      <td>-0.458464</td>\n",
       "      <td>-0.498415</td>\n",
       "      <td>-0.498698</td>\n",
       "      <td>1.049337</td>\n",
       "      <td>-0.609127</td>\n",
       "      <td>1.100494</td>\n",
       "      <td>-0.400138</td>\n",
       "    </tr>\n",
       "    <tr>\n",
       "      <th>O00193</th>\n",
       "      <td>-2.900491</td>\n",
       "      <td>NaN</td>\n",
       "      <td>-2.925075</td>\n",
       "      <td>-2.369339</td>\n",
       "      <td>-2.336681</td>\n",
       "      <td>-1.672244</td>\n",
       "      <td>-1.999313</td>\n",
       "      <td>NaN</td>\n",
       "      <td>-1.551450</td>\n",
       "      <td>NaN</td>\n",
       "    </tr>\n",
       "    <tr>\n",
       "      <th>O00299</th>\n",
       "      <td>2.992047</td>\n",
       "      <td>2.345513</td>\n",
       "      <td>3.402257</td>\n",
       "      <td>2.489825</td>\n",
       "      <td>2.890039</td>\n",
       "      <td>2.731395</td>\n",
       "      <td>2.913959</td>\n",
       "      <td>2.323098</td>\n",
       "      <td>2.872709</td>\n",
       "      <td>2.780077</td>\n",
       "    </tr>\n",
       "    <tr>\n",
       "      <th>O00303</th>\n",
       "      <td>-1.096410</td>\n",
       "      <td>NaN</td>\n",
       "      <td>-1.240233</td>\n",
       "      <td>NaN</td>\n",
       "      <td>-3.095039</td>\n",
       "      <td>NaN</td>\n",
       "      <td>-0.627496</td>\n",
       "      <td>-2.928677</td>\n",
       "      <td>-1.702684</td>\n",
       "      <td>-1.755297</td>\n",
       "    </tr>\n",
       "    <tr>\n",
       "      <th>O00479</th>\n",
       "      <td>1.972616</td>\n",
       "      <td>3.598351</td>\n",
       "      <td>3.080463</td>\n",
       "      <td>3.241723</td>\n",
       "      <td>3.088869</td>\n",
       "      <td>4.233435</td>\n",
       "      <td>2.674726</td>\n",
       "      <td>3.897939</td>\n",
       "      <td>3.909008</td>\n",
       "      <td>1.006777</td>\n",
       "    </tr>\n",
       "    <tr>\n",
       "      <th>...</th>\n",
       "      <td>...</td>\n",
       "      <td>...</td>\n",
       "      <td>...</td>\n",
       "      <td>...</td>\n",
       "      <td>...</td>\n",
       "      <td>...</td>\n",
       "      <td>...</td>\n",
       "      <td>...</td>\n",
       "      <td>...</td>\n",
       "      <td>...</td>\n",
       "    </tr>\n",
       "    <tr>\n",
       "      <th>Q9Y3U8</th>\n",
       "      <td>0.238464</td>\n",
       "      <td>-1.018782</td>\n",
       "      <td>0.331427</td>\n",
       "      <td>-0.300450</td>\n",
       "      <td>-0.246623</td>\n",
       "      <td>-1.139339</td>\n",
       "      <td>0.212080</td>\n",
       "      <td>0.391021</td>\n",
       "      <td>NaN</td>\n",
       "      <td>1.605279</td>\n",
       "    </tr>\n",
       "    <tr>\n",
       "      <th>Q9Y490;Q9Y4G6</th>\n",
       "      <td>3.911555</td>\n",
       "      <td>3.565216</td>\n",
       "      <td>4.008772</td>\n",
       "      <td>3.167621</td>\n",
       "      <td>4.040532</td>\n",
       "      <td>4.168167</td>\n",
       "      <td>4.640244</td>\n",
       "      <td>3.788074</td>\n",
       "      <td>3.913785</td>\n",
       "      <td>4.478746</td>\n",
       "    </tr>\n",
       "    <tr>\n",
       "      <th>Q9Y5J7</th>\n",
       "      <td>-1.877409</td>\n",
       "      <td>NaN</td>\n",
       "      <td>NaN</td>\n",
       "      <td>-2.863808</td>\n",
       "      <td>-2.013349</td>\n",
       "      <td>-0.933848</td>\n",
       "      <td>-2.375183</td>\n",
       "      <td>NaN</td>\n",
       "      <td>NaN</td>\n",
       "      <td>-1.140186</td>\n",
       "    </tr>\n",
       "    <tr>\n",
       "      <th>Q9Y5S9</th>\n",
       "      <td>-0.588013</td>\n",
       "      <td>-1.356809</td>\n",
       "      <td>-1.732142</td>\n",
       "      <td>-1.394947</td>\n",
       "      <td>-0.469063</td>\n",
       "      <td>-1.880680</td>\n",
       "      <td>-1.440381</td>\n",
       "      <td>-1.271605</td>\n",
       "      <td>-0.445337</td>\n",
       "      <td>NaN</td>\n",
       "    </tr>\n",
       "    <tr>\n",
       "      <th>Q9Y6N5</th>\n",
       "      <td>-0.956097</td>\n",
       "      <td>-3.128454</td>\n",
       "      <td>-1.788069</td>\n",
       "      <td>NaN</td>\n",
       "      <td>-1.185479</td>\n",
       "      <td>NaN</td>\n",
       "      <td>0.009097</td>\n",
       "      <td>0.235202</td>\n",
       "      <td>-0.106354</td>\n",
       "      <td>-0.143292</td>\n",
       "    </tr>\n",
       "  </tbody>\n",
       "</table>\n",
       "<p>699 rows × 10 columns</p>\n",
       "</div>"
      ],
      "text/plain": [
       "               Intensity 1_B_C10  Intensity 1_B_C11  Intensity 1_B_C12  \\\n",
       "Protein IDs                                                              \n",
       "B0I1T2                 -0.646875          -2.001789          -0.923008   \n",
       "O00193                 -2.900491                NaN          -2.925075   \n",
       "O00299                  2.992047           2.345513           3.402257   \n",
       "O00303                 -1.096410                NaN          -1.240233   \n",
       "O00479                  1.972616           3.598351           3.080463   \n",
       "...                          ...                ...                ...   \n",
       "Q9Y3U8                  0.238464          -1.018782           0.331427   \n",
       "Q9Y490;Q9Y4G6           3.911555           3.565216           4.008772   \n",
       "Q9Y5J7                 -1.877409                NaN                NaN   \n",
       "Q9Y5S9                 -0.588013          -1.356809          -1.732142   \n",
       "Q9Y6N5                 -0.956097          -3.128454          -1.788069   \n",
       "\n",
       "               Intensity 1_B_C13  Intensity 1_B_C9  Intensity 1_T_D10  \\\n",
       "Protein IDs                                                             \n",
       "B0I1T2                 -0.458464         -0.498415          -0.498698   \n",
       "O00193                 -2.369339         -2.336681          -1.672244   \n",
       "O00299                  2.489825          2.890039           2.731395   \n",
       "O00303                       NaN         -3.095039                NaN   \n",
       "O00479                  3.241723          3.088869           4.233435   \n",
       "...                          ...               ...                ...   \n",
       "Q9Y3U8                 -0.300450         -0.246623          -1.139339   \n",
       "Q9Y490;Q9Y4G6           3.167621          4.040532           4.168167   \n",
       "Q9Y5J7                 -2.863808         -2.013349          -0.933848   \n",
       "Q9Y5S9                 -1.394947         -0.469063          -1.880680   \n",
       "Q9Y6N5                       NaN         -1.185479                NaN   \n",
       "\n",
       "               Intensity 1_T_D11  Intensity 1_T_D12  Intensity 1_T_D13  \\\n",
       "Protein IDs                                                              \n",
       "B0I1T2                  1.049337          -0.609127           1.100494   \n",
       "O00193                 -1.999313                NaN          -1.551450   \n",
       "O00299                  2.913959           2.323098           2.872709   \n",
       "O00303                 -0.627496          -2.928677          -1.702684   \n",
       "O00479                  2.674726           3.897939           3.909008   \n",
       "...                          ...                ...                ...   \n",
       "Q9Y3U8                  0.212080           0.391021                NaN   \n",
       "Q9Y490;Q9Y4G6           4.640244           3.788074           3.913785   \n",
       "Q9Y5J7                 -2.375183                NaN                NaN   \n",
       "Q9Y5S9                 -1.440381          -1.271605          -0.445337   \n",
       "Q9Y6N5                  0.009097           0.235202          -0.106354   \n",
       "\n",
       "               Intensity 1_T_D9  \n",
       "Protein IDs                      \n",
       "B0I1T2                -0.400138  \n",
       "O00193                      NaN  \n",
       "O00299                 2.780077  \n",
       "O00303                -1.755297  \n",
       "O00479                 1.006777  \n",
       "...                         ...  \n",
       "Q9Y3U8                 1.605279  \n",
       "Q9Y490;Q9Y4G6          4.478746  \n",
       "Q9Y5J7                -1.140186  \n",
       "Q9Y5S9                      NaN  \n",
       "Q9Y6N5                -0.143292  \n",
       "\n",
       "[699 rows x 10 columns]"
      ]
     },
     "execution_count": 8,
     "metadata": {},
     "output_type": "execute_result"
    }
   ],
   "source": [
    "data"
   ]
  },
  {
   "cell_type": "code",
   "execution_count": 44,
   "metadata": {},
   "outputs": [
    {
     "data": {
      "image/png": "[encoded data removed]",
      "text/plain": [
       "<Figure size 432x288 with 1 Axes>"
      ]
     },
     "metadata": {
      "needs_background": "light"
     },
     "output_type": "display_data"
    }
   ],
   "source": [
    "#graph volcano\n",
    "import matplotlib.pyplot as plt\n",
    "import seaborn as sns\n",
    "from numpy import log10\n",
    "tstats['-log p'] = -log10(tstats['pvalue'])\n",
    "\n",
    "figure = sns.scatterplot(x='log2(B)-log2(T)',y='-log p',data=tstats)\n",
    "figure.set_title(\"B cells vs T cells\")\n",
    "#plt.axvline(1, color ='orange')\n",
    "#plt.axvline(-1, color ='orange')\n",
    "plt.axhline(-log10(.05), color ='orange')\n",
    "plt.show()"
   ]
  },
  {
   "cell_type": "markdown",
   "metadata": {},
   "source": [
    "Next we will identify the altered proteins."
   ]
  },
  {
   "cell_type": "code",
   "execution_count": 10,
   "metadata": {
    "scrolled": true
   },
   "outputs": [],
   "source": [
    "altered = tstats.apply(data_utils.is_altered, axis=1, change_factor=False).dropna()"
   ]
  },
  {
   "cell_type": "markdown",
   "metadata": {},
   "source": [
    "These are significantly altered (p<0.01) without restricting by the magnitude of change:"
   ]
  },
  {
   "cell_type": "code",
   "execution_count": 11,
   "metadata": {},
   "outputs": [
    {
     "data": {
      "text/plain": [
       "T cells    43\n",
       "B cells    16\n",
       "dtype: int64"
      ]
     },
     "execution_count": 11,
     "metadata": {},
     "output_type": "execute_result"
    }
   ],
   "source": [
    "altered.value_counts()"
   ]
  },
  {
   "cell_type": "code",
   "execution_count": 45,
   "metadata": {},
   "outputs": [
    {
     "name": "stdout",
     "output_type": "stream",
     "text": [
      "Here are counts for other p and change cutoffs:\n",
      "P<0.05, >150% of the other type\n",
      "T cells    69\n",
      "B cells    27\n",
      "dtype: int64\n",
      "\n",
      "P<0.05, >200% of the other type\n",
      "T cells    38\n",
      "B cells    19\n",
      "dtype: int64\n",
      "\n",
      "P<0.05, >500% of the other type\n",
      "T cells    3\n",
      "B cells    2\n",
      "dtype: int64\n",
      "\n",
      "P<0.01, >150% of the other type\n",
      "T cells    40\n",
      "B cells    15\n",
      "dtype: int64\n",
      "\n",
      "P<0.01, >200% of the other type\n",
      "T cells    24\n",
      "B cells    11\n",
      "dtype: int64\n",
      "\n",
      "P<0.01, >500% of the other type\n",
      "T cells    3\n",
      "B cells    2\n",
      "dtype: int64\n"
     ]
    }
   ],
   "source": [
    "print(\"Here are counts for other p and change cutoffs:\")\n",
    "print(\"P<0.05, >150% of the other type\")\n",
    "print(tstats.apply(data_utils.is_altered, axis=1, pvalue=.05,change_factor=1.5).value_counts()) #50% increase from either\n",
    "print(\"\\nP<0.05, >200% of the other type\")\n",
    "print(tstats.apply(data_utils.is_altered, axis=1, pvalue=.05,change_factor=2).value_counts()) #Double\n",
    "print(\"\\nP<0.05, >500% of the other type\")\n",
    "print(tstats.apply(data_utils.is_altered, axis=1, pvalue=.05,change_factor=5).value_counts()) #5 times larger\n",
    "\n",
    "print(\"\\nP<0.01, >150% of the other type\")\n",
    "print(tstats.apply(data_utils.is_altered, axis=1, pvalue=.01,change_factor=1.5).value_counts()) #50% increase from either\n",
    "print(\"\\nP<0.01, >200% of the other type\")\n",
    "print(tstats.apply(data_utils.is_altered, axis=1, pvalue=.01,change_factor=2).value_counts()) #Double\n",
    "print(\"\\nP<0.01, >500% of the other type\")\n",
    "print(tstats.apply(data_utils.is_altered, axis=1, pvalue=.01,change_factor=5).value_counts()) #5 times larger"
   ]
  },
  {
   "cell_type": "markdown",
   "metadata": {},
   "source": [
    "### Figure XXX: Differentially expressed proteins"
   ]
  },
  {
   "cell_type": "code",
   "execution_count": 14,
   "metadata": {},
   "outputs": [
    {
     "data": {
      "image/png": "[encoded data removed]",
      "text/plain": [
       "<Figure size 432x288 with 1 Axes>"
      ]
     },
     "metadata": {
      "needs_background": "light"
     },
     "output_type": "display_data"
    }
   ],
   "source": [
    "figure = sns.scatterplot(x='log2(B)-log2(T)',y='-log p',data=tstats)\n",
    "figure2 = sns.scatterplot(x='log2(B)-log2(T)',y='-log p',data=tstats.loc[altered.index])\n",
    "plt.rc('axes',labelsize=16)\n",
    "plt.xticks(fontsize=14)\n",
    "plt.yticks(fontsize=14)\n",
    "#plt.title(\"B cells vs T cells\", fontsize=20)\n",
    "\n",
    "plt.savefig(\"data/BvsT.png\", dpi=300)"
   ]
  },
  {
   "cell_type": "markdown",
   "metadata": {},
   "source": [
    "This shows the differentially expressed proteins. Recall that this dataset is restricted to those expressed in at least three of each cell type.\n",
    "\n",
    "The next step is to identify those proteins by name. Here we get the protein names from the fasta file, which remain the same regardless of which software the data was quantified using."
   ]
  },
  {
   "cell_type": "code",
   "execution_count": 15,
   "metadata": {},
   "outputs": [],
   "source": [
    "protein_names = load_data.load_fasta()"
   ]
  },
  {
   "cell_type": "code",
   "execution_count": 16,
   "metadata": {},
   "outputs": [],
   "source": [
    "import pandas as pd\n",
    "protein_names_by_group={}\n",
    "for ID in data_raw.index:\n",
    "    if ';' in ID:\n",
    "        ids = ID.split(';')\n",
    "        names=''\n",
    "        for i in ids:\n",
    "            if i in protein_names.index:\n",
    "                names=names + protein_names[i] + ';'\n",
    "        names = names[:-1]\n",
    "        protein_names_by_group[ID] = names\n",
    "    else:\n",
    "        if ID in protein_names.index:\n",
    "            protein_names_by_group[ID]=protein_names[ID]\n",
    "protein_names_by_group = pd.Series(list(protein_names_by_group.values()), index=protein_names_by_group.keys())"
   ]
  },
  {
   "cell_type": "markdown",
   "metadata": {},
   "source": [
    "Here we add the names to the <code>tstats</code> dataframe, which contains the fold changes for each protein. Then we can list the proteins that are altered. Optionally, use <code> head()</code> to display the first few or <code>to_csv</code> to write out to a file. We now split up the proteins heightened in B cells from those heightened in T cells."
   ]
  },
  {
   "cell_type": "code",
   "execution_count": 58,
   "metadata": {},
   "outputs": [],
   "source": [
    "tstats['Name']=protein_names_by_group\n",
    "tstats['GeneID'] = tstats.Name.apply(lambda n: str(n).split('_HUMAN')[0])\n",
    "\n",
    "altered_proteins = tstats.loc[altered.index].sort_values('log2(B)-log2(T)',\n",
    "                        ascending=False)[['pvalue','log2(B)-log2(T)','Name','GeneID']]\n",
    "higher_in_B_cells = altered_proteins.loc[altered_proteins['log2(B)-log2(T)'] >0]\n",
    "higher_in_T_cells = altered_proteins.loc[altered_proteins['log2(B)-log2(T)'] <0]\n",
    "\n",
    "#To write out to a file, use:\n",
    "#altered_proteins.to_csv('data/filename.tsv', sep='\\t')"
   ]
  },
  {
   "cell_type": "markdown",
   "metadata": {},
   "source": [
    "Next we do the same for those only identified in one cell type."
   ]
  },
  {
   "cell_type": "code",
   "execution_count": 52,
   "metadata": {},
   "outputs": [],
   "source": [
    "data_in_one_type['Name'] = protein_names_by_group\n",
    "data_in_one_type['GeneID']=data_in_one_type.Name.apply(lambda n: str(n).split('_HUMAN')[0])\n",
    "\n",
    "B_cell_only_geneset = data_in_one_type[(data_in_one_type.Type=='B_cell')]\n",
    "T_cell_only_geneset= data_in_one_type[(data_in_one_type.Type=='T_cell')]"
   ]
  },
  {
   "cell_type": "markdown",
   "metadata": {},
   "source": [
    "### Proteins Higher in B Cells:"
   ]
  },
  {
   "cell_type": "code",
   "execution_count": 54,
   "metadata": {},
   "outputs": [
    {
     "data": {
      "text/html": [
       "<div>\n",
       "<style scoped>\n",
       "    .dataframe tbody tr th:only-of-type {\n",
       "        vertical-align: middle;\n",
       "    }\n",
       "\n",
       "    .dataframe tbody tr th {\n",
       "        vertical-align: top;\n",
       "    }\n",
       "\n",
       "    .dataframe thead th {\n",
       "        text-align: right;\n",
       "    }\n",
       "</style>\n",
       "<table border=\"1\" class=\"dataframe\">\n",
       "  <thead>\n",
       "    <tr style=\"text-align: right;\">\n",
       "      <th></th>\n",
       "      <th>pvalue</th>\n",
       "      <th>log2(B)-log2(T)</th>\n",
       "      <th>Name</th>\n",
       "      <th>GeneID</th>\n",
       "    </tr>\n",
       "    <tr>\n",
       "      <th>Protein IDs</th>\n",
       "      <th></th>\n",
       "      <th></th>\n",
       "      <th></th>\n",
       "      <th></th>\n",
       "    </tr>\n",
       "  </thead>\n",
       "  <tbody>\n",
       "    <tr>\n",
       "      <th>P09960</th>\n",
       "      <td>0.000018</td>\n",
       "      <td>2.513640</td>\n",
       "      <td>LKHA4_HUMAN Leukotriene A-4 hydrolase</td>\n",
       "      <td>LKHA4</td>\n",
       "    </tr>\n",
       "    <tr>\n",
       "      <th>Q96KP4</th>\n",
       "      <td>0.000028</td>\n",
       "      <td>2.513483</td>\n",
       "      <td>CNDP2_HUMAN Cytosolic non-specific dipeptidase</td>\n",
       "      <td>CNDP2</td>\n",
       "    </tr>\n",
       "    <tr>\n",
       "      <th>P29350</th>\n",
       "      <td>0.000041</td>\n",
       "      <td>2.254605</td>\n",
       "      <td>PTN6_HUMAN Tyrosine-protein phosphatase non-re...</td>\n",
       "      <td>PTN6</td>\n",
       "    </tr>\n",
       "    <tr>\n",
       "      <th>P30040</th>\n",
       "      <td>0.006846</td>\n",
       "      <td>1.871703</td>\n",
       "      <td>ERP29_HUMAN Endoplasmic reticulum resident pro...</td>\n",
       "      <td>ERP29</td>\n",
       "    </tr>\n",
       "    <tr>\n",
       "      <th>P09874</th>\n",
       "      <td>0.000003</td>\n",
       "      <td>1.748271</td>\n",
       "      <td>PARP1_HUMAN Poly [ADP-ribose] polymerase 1</td>\n",
       "      <td>PARP1</td>\n",
       "    </tr>\n",
       "  </tbody>\n",
       "</table>\n",
       "</div>"
      ],
      "text/plain": [
       "               pvalue  log2(B)-log2(T)  \\\n",
       "Protein IDs                              \n",
       "P09960       0.000018         2.513640   \n",
       "Q96KP4       0.000028         2.513483   \n",
       "P29350       0.000041         2.254605   \n",
       "P30040       0.006846         1.871703   \n",
       "P09874       0.000003         1.748271   \n",
       "\n",
       "                                                          Name GeneID  \n",
       "Protein IDs                                                            \n",
       "P09960                  LKHA4_HUMAN Leukotriene A-4 hydrolase   LKHA4  \n",
       "Q96KP4         CNDP2_HUMAN Cytosolic non-specific dipeptidase   CNDP2  \n",
       "P29350       PTN6_HUMAN Tyrosine-protein phosphatase non-re...   PTN6  \n",
       "P30040       ERP29_HUMAN Endoplasmic reticulum resident pro...  ERP29  \n",
       "P09874             PARP1_HUMAN Poly [ADP-ribose] polymerase 1   PARP1  "
      ]
     },
     "execution_count": 54,
     "metadata": {},
     "output_type": "execute_result"
    }
   ],
   "source": [
    "higher_in_B_cells.head()"
   ]
  },
  {
   "cell_type": "markdown",
   "metadata": {},
   "source": [
    "### Proteins Only in B Cells:"
   ]
  },
  {
   "cell_type": "code",
   "execution_count": 55,
   "metadata": {},
   "outputs": [
    {
     "data": {
      "text/html": [
       "<div>\n",
       "<style scoped>\n",
       "    .dataframe tbody tr th:only-of-type {\n",
       "        vertical-align: middle;\n",
       "    }\n",
       "\n",
       "    .dataframe tbody tr th {\n",
       "        vertical-align: top;\n",
       "    }\n",
       "\n",
       "    .dataframe thead th {\n",
       "        text-align: right;\n",
       "    }\n",
       "</style>\n",
       "<table border=\"1\" class=\"dataframe\">\n",
       "  <thead>\n",
       "    <tr style=\"text-align: right;\">\n",
       "      <th></th>\n",
       "      <th>Name</th>\n",
       "      <th>GeneID</th>\n",
       "    </tr>\n",
       "    <tr>\n",
       "      <th>Protein IDs</th>\n",
       "      <th></th>\n",
       "      <th></th>\n",
       "    </tr>\n",
       "  </thead>\n",
       "  <tbody>\n",
       "    <tr>\n",
       "      <th>A6NI72;P14598;A8MVU1</th>\n",
       "      <td>NCF1B_HUMAN Putative neutrophil cytosol factor...</td>\n",
       "      <td>NCF1B</td>\n",
       "    </tr>\n",
       "    <tr>\n",
       "      <th>O00151</th>\n",
       "      <td>PDLI1_HUMAN PDZ and LIM domain protein 1</td>\n",
       "      <td>PDLI1</td>\n",
       "    </tr>\n",
       "    <tr>\n",
       "      <th>O15400</th>\n",
       "      <td>TX7_HUMAN Syntaxin-7</td>\n",
       "      <td>TX7</td>\n",
       "    </tr>\n",
       "    <tr>\n",
       "      <th>O43169</th>\n",
       "      <td>CYB5B_HUMAN Cytochrome b5 type B</td>\n",
       "      <td>CYB5B</td>\n",
       "    </tr>\n",
       "    <tr>\n",
       "      <th>O43504</th>\n",
       "      <td>LTOR5_HUMAN Ragulator complex protein LAMTOR5</td>\n",
       "      <td>LTOR5</td>\n",
       "    </tr>\n",
       "  </tbody>\n",
       "</table>\n",
       "</div>"
      ],
      "text/plain": [
       "                                                                   Name GeneID\n",
       "Protein IDs                                                                   \n",
       "A6NI72;P14598;A8MVU1  NCF1B_HUMAN Putative neutrophil cytosol factor...  NCF1B\n",
       "O00151                        PDLI1_HUMAN PDZ and LIM domain protein 1   PDLI1\n",
       "O15400                                            TX7_HUMAN Syntaxin-7     TX7\n",
       "O43169                                CYB5B_HUMAN Cytochrome b5 type B   CYB5B\n",
       "O43504                   LTOR5_HUMAN Ragulator complex protein LAMTOR5   LTOR5"
      ]
     },
     "execution_count": 55,
     "metadata": {},
     "output_type": "execute_result"
    }
   ],
   "source": [
    "B_cell_only_geneset[['Name', 'GeneID']].head()"
   ]
  },
  {
   "cell_type": "markdown",
   "metadata": {},
   "source": [
    "### Proteins higher or only in B cells by GeneID"
   ]
  },
  {
   "cell_type": "code",
   "execution_count": 66,
   "metadata": {},
   "outputs": [],
   "source": [
    "T_cell_set = list(higher_in_T_cells.GeneID)+list(T_cell_only_geneset.GeneID)"
   ]
  },
  {
   "cell_type": "markdown",
   "metadata": {},
   "source": [
    "### Proteins Higher in T Cells:"
   ]
  },
  {
   "cell_type": "code",
   "execution_count": 59,
   "metadata": {
    "scrolled": false
   },
   "outputs": [
    {
     "data": {
      "text/html": [
       "<div>\n",
       "<style scoped>\n",
       "    .dataframe tbody tr th:only-of-type {\n",
       "        vertical-align: middle;\n",
       "    }\n",
       "\n",
       "    .dataframe tbody tr th {\n",
       "        vertical-align: top;\n",
       "    }\n",
       "\n",
       "    .dataframe thead th {\n",
       "        text-align: right;\n",
       "    }\n",
       "</style>\n",
       "<table border=\"1\" class=\"dataframe\">\n",
       "  <thead>\n",
       "    <tr style=\"text-align: right;\">\n",
       "      <th></th>\n",
       "      <th>pvalue</th>\n",
       "      <th>log2(B)-log2(T)</th>\n",
       "      <th>Name</th>\n",
       "      <th>GeneID</th>\n",
       "    </tr>\n",
       "    <tr>\n",
       "      <th>Protein IDs</th>\n",
       "      <th></th>\n",
       "      <th></th>\n",
       "      <th></th>\n",
       "      <th></th>\n",
       "    </tr>\n",
       "  </thead>\n",
       "  <tbody>\n",
       "    <tr>\n",
       "      <th>P26447</th>\n",
       "      <td>0.000021</td>\n",
       "      <td>-3.843883</td>\n",
       "      <td>10A4_HUMAN Protein S100-A4</td>\n",
       "      <td>10A4</td>\n",
       "    </tr>\n",
       "    <tr>\n",
       "      <th>P12814;Q08043;P35609</th>\n",
       "      <td>0.000040</td>\n",
       "      <td>-3.356164</td>\n",
       "      <td>ACTN1_HUMAN Alpha-actinin-1 ;ACTN3_HUMAN Alpha...</td>\n",
       "      <td>ACTN1</td>\n",
       "    </tr>\n",
       "    <tr>\n",
       "      <th>Q15149</th>\n",
       "      <td>0.001206</td>\n",
       "      <td>-2.411854</td>\n",
       "      <td>PLEC_HUMAN Plectin</td>\n",
       "      <td>PLEC</td>\n",
       "    </tr>\n",
       "    <tr>\n",
       "      <th>Q9UI08</th>\n",
       "      <td>0.000008</td>\n",
       "      <td>-1.775310</td>\n",
       "      <td>EVL_HUMAN Ena/VASP-like protein</td>\n",
       "      <td>EVL</td>\n",
       "    </tr>\n",
       "    <tr>\n",
       "      <th>P31949</th>\n",
       "      <td>0.005789</td>\n",
       "      <td>-1.695633</td>\n",
       "      <td>10AB_HUMAN Protein S100-A11</td>\n",
       "      <td>10AB</td>\n",
       "    </tr>\n",
       "  </tbody>\n",
       "</table>\n",
       "</div>"
      ],
      "text/plain": [
       "                        pvalue  log2(B)-log2(T)  \\\n",
       "Protein IDs                                       \n",
       "P26447                0.000021        -3.843883   \n",
       "P12814;Q08043;P35609  0.000040        -3.356164   \n",
       "Q15149                0.001206        -2.411854   \n",
       "Q9UI08                0.000008        -1.775310   \n",
       "P31949                0.005789        -1.695633   \n",
       "\n",
       "                                                                   Name GeneID  \n",
       "Protein IDs                                                                     \n",
       "P26447                                      10A4_HUMAN Protein S100-A4    10A4  \n",
       "P12814;Q08043;P35609  ACTN1_HUMAN Alpha-actinin-1 ;ACTN3_HUMAN Alpha...  ACTN1  \n",
       "Q15149                                              PLEC_HUMAN Plectin    PLEC  \n",
       "Q9UI08                                 EVL_HUMAN Ena/VASP-like protein     EVL  \n",
       "P31949                                     10AB_HUMAN Protein S100-A11    10AB  "
      ]
     },
     "execution_count": 59,
     "metadata": {},
     "output_type": "execute_result"
    }
   ],
   "source": [
    "higher_in_T_cells.sort_values('log2(B)-log2(T)',ascending=True).head()"
   ]
  },
  {
   "cell_type": "markdown",
   "metadata": {},
   "source": [
    "### Proteins Only in T Cells:"
   ]
  },
  {
   "cell_type": "code",
   "execution_count": 57,
   "metadata": {},
   "outputs": [
    {
     "data": {
      "text/html": [
       "<div>\n",
       "<style scoped>\n",
       "    .dataframe tbody tr th:only-of-type {\n",
       "        vertical-align: middle;\n",
       "    }\n",
       "\n",
       "    .dataframe tbody tr th {\n",
       "        vertical-align: top;\n",
       "    }\n",
       "\n",
       "    .dataframe thead th {\n",
       "        text-align: right;\n",
       "    }\n",
       "</style>\n",
       "<table border=\"1\" class=\"dataframe\">\n",
       "  <thead>\n",
       "    <tr style=\"text-align: right;\">\n",
       "      <th></th>\n",
       "      <th>Name</th>\n",
       "      <th>GeneID</th>\n",
       "    </tr>\n",
       "    <tr>\n",
       "      <th>Protein IDs</th>\n",
       "      <th></th>\n",
       "      <th></th>\n",
       "    </tr>\n",
       "  </thead>\n",
       "  <tbody>\n",
       "    <tr>\n",
       "      <th>O00584</th>\n",
       "      <td>RNT2_HUMAN Ribonuclease T2</td>\n",
       "      <td>RNT2</td>\n",
       "    </tr>\n",
       "    <tr>\n",
       "      <th>O15117</th>\n",
       "      <td>FYB1_HUMAN FYN-binding protein 1</td>\n",
       "      <td>FYB1</td>\n",
       "    </tr>\n",
       "    <tr>\n",
       "      <th>O75915</th>\n",
       "      <td>PRAF3_HUMAN PRA1 family protein 3</td>\n",
       "      <td>PRAF3</td>\n",
       "    </tr>\n",
       "    <tr>\n",
       "      <th>P02545</th>\n",
       "      <td>LMNA_HUMAN Prelamin-A/C</td>\n",
       "      <td>LMNA</td>\n",
       "    </tr>\n",
       "    <tr>\n",
       "      <th>P06127</th>\n",
       "      <td>CD5_HUMAN T-cell surface glycoprotein CD5</td>\n",
       "      <td>CD5</td>\n",
       "    </tr>\n",
       "  </tbody>\n",
       "</table>\n",
       "</div>"
      ],
      "text/plain": [
       "                                                   Name GeneID\n",
       "Protein IDs                                                   \n",
       "O00584                      RNT2_HUMAN Ribonuclease T2    RNT2\n",
       "O15117                FYB1_HUMAN FYN-binding protein 1    FYB1\n",
       "O75915               PRAF3_HUMAN PRA1 family protein 3   PRAF3\n",
       "P02545                         LMNA_HUMAN Prelamin-A/C    LMNA\n",
       "P06127       CD5_HUMAN T-cell surface glycoprotein CD5     CD5"
      ]
     },
     "execution_count": 57,
     "metadata": {},
     "output_type": "execute_result"
    }
   ],
   "source": [
    "T_cell_only_geneset[['Name', 'GeneID']].head()"
   ]
  },
  {
   "cell_type": "markdown",
   "metadata": {},
   "source": [
    "### Proteins higher or only in T cells by GeneID"
   ]
  },
  {
   "cell_type": "code",
   "execution_count": 66,
   "metadata": {},
   "outputs": [],
   "source": [
    "T_cell_set = list(higher_in_T_cells.GeneID)+list(T_cell_only_geneset.GeneID)"
   ]
  },
  {
   "cell_type": "code",
   "execution_count": null,
   "metadata": {},
   "outputs": [],
   "source": []
  },
  {
   "cell_type": "code",
   "execution_count": null,
   "metadata": {},
   "outputs": [],
   "source": []
  },
  {
   "cell_type": "markdown",
   "metadata": {},
   "source": [
    "There are a number of characteristic proteins such as B or T cell antigens that are, as expected, only on the associated cell type. The next two code cells retrieve them from the dataframe to display how strongly they are expressed in each sample."
   ]
  },
  {
   "cell_type": "code",
   "execution_count": 20,
   "metadata": {},
   "outputs": [
    {
     "data": {
      "text/plain": [
       "Index(['Intensity 1_B_C10', 'Intensity 1_B_C11', 'Intensity 1_B_C12',\n",
       "       'Intensity 1_B_C13', 'Intensity 1_B_C9', 'Intensity 1_T_D10',\n",
       "       'Intensity 1_T_D11', 'Intensity 1_T_D12', 'Intensity 1_T_D13',\n",
       "       'Intensity 1_T_D9'],\n",
       "      dtype='object')"
      ]
     },
     "execution_count": 20,
     "metadata": {},
     "output_type": "execute_result"
    }
   ],
   "source": [
    "data.columns"
   ]
  },
  {
   "cell_type": "code",
   "execution_count": 22,
   "metadata": {},
   "outputs": [
    {
     "data": {
      "text/html": [
       "<div>\n",
       "<style scoped>\n",
       "    .dataframe tbody tr th:only-of-type {\n",
       "        vertical-align: middle;\n",
       "    }\n",
       "\n",
       "    .dataframe tbody tr th {\n",
       "        vertical-align: top;\n",
       "    }\n",
       "\n",
       "    .dataframe thead th {\n",
       "        text-align: right;\n",
       "    }\n",
       "</style>\n",
       "<table border=\"1\" class=\"dataframe\">\n",
       "  <thead>\n",
       "    <tr style=\"text-align: right;\">\n",
       "      <th></th>\n",
       "      <th>Name</th>\n",
       "      <th>Intensity 1_T_D10</th>\n",
       "      <th>Intensity 1_T_D11</th>\n",
       "      <th>Intensity 1_T_D12</th>\n",
       "      <th>Intensity 1_T_D13</th>\n",
       "      <th>Intensity 1_T_D9</th>\n",
       "    </tr>\n",
       "    <tr>\n",
       "      <th>Protein IDs</th>\n",
       "      <th></th>\n",
       "      <th></th>\n",
       "      <th></th>\n",
       "      <th></th>\n",
       "      <th></th>\n",
       "      <th></th>\n",
       "    </tr>\n",
       "  </thead>\n",
       "  <tbody>\n",
       "    <tr>\n",
       "      <th>P06729</th>\n",
       "      <td>CD2_HUMAN T-cell surface antigen CD2</td>\n",
       "      <td>-1.531771</td>\n",
       "      <td>-0.498195</td>\n",
       "      <td>-0.931858</td>\n",
       "      <td>-0.715246</td>\n",
       "      <td>-1.022262</td>\n",
       "    </tr>\n",
       "    <tr>\n",
       "      <th>P06127</th>\n",
       "      <td>CD5_HUMAN T-cell surface glycoprotein CD5</td>\n",
       "      <td>-1.483382</td>\n",
       "      <td>-1.044371</td>\n",
       "      <td>-1.669768</td>\n",
       "      <td>-2.152402</td>\n",
       "      <td>-2.161821</td>\n",
       "    </tr>\n",
       "    <tr>\n",
       "      <th>P30203</th>\n",
       "      <td>CD6_HUMAN T-cell differentiation antigen CD6</td>\n",
       "      <td>-0.109123</td>\n",
       "      <td>-1.547397</td>\n",
       "      <td>-0.575047</td>\n",
       "      <td>-2.217829</td>\n",
       "      <td>-0.879942</td>\n",
       "    </tr>\n",
       "  </tbody>\n",
       "</table>\n",
       "</div>"
      ],
      "text/plain": [
       "                                                      Name  Intensity 1_T_D10  \\\n",
       "Protein IDs                                                                     \n",
       "P06729               CD2_HUMAN T-cell surface antigen CD2           -1.531771   \n",
       "P06127          CD5_HUMAN T-cell surface glycoprotein CD5           -1.483382   \n",
       "P30203       CD6_HUMAN T-cell differentiation antigen CD6           -0.109123   \n",
       "\n",
       "             Intensity 1_T_D11  Intensity 1_T_D12  Intensity 1_T_D13  \\\n",
       "Protein IDs                                                            \n",
       "P06729               -0.498195          -0.931858          -0.715246   \n",
       "P06127               -1.044371          -1.669768          -2.152402   \n",
       "P30203               -1.547397          -0.575047          -2.217829   \n",
       "\n",
       "             Intensity 1_T_D9  \n",
       "Protein IDs                    \n",
       "P06729              -1.022262  \n",
       "P06127              -2.161821  \n",
       "P30203              -0.879942  "
      ]
     },
     "execution_count": 22,
     "metadata": {},
     "output_type": "execute_result"
    }
   ],
   "source": [
    "T_col=['Name','Intensity T_cells D10',\n",
    "       'Intensity T_cells D11','Intensity T_cells D12',\n",
    "       'Intensity T_cells D13','Intensity T_cells D9']\n",
    "T_col=['Name','Intensity 1_T_D10',\n",
    "       'Intensity 1_T_D11', 'Intensity 1_T_D12',\n",
    "       'Intensity 1_T_D13','Intensity 1_T_D9']\n",
    "\n",
    "T_ants = data_in_one_type[T_col].loc[['P06729','P06127','P30203']]\n",
    "T_ants"
   ]
  },
  {
   "cell_type": "code",
   "execution_count": 21,
   "metadata": {},
   "outputs": [
    {
     "data": {
      "text/html": [
       "<div>\n",
       "<style scoped>\n",
       "    .dataframe tbody tr th:only-of-type {\n",
       "        vertical-align: middle;\n",
       "    }\n",
       "\n",
       "    .dataframe tbody tr th {\n",
       "        vertical-align: top;\n",
       "    }\n",
       "\n",
       "    .dataframe thead th {\n",
       "        text-align: right;\n",
       "    }\n",
       "</style>\n",
       "<table border=\"1\" class=\"dataframe\">\n",
       "  <thead>\n",
       "    <tr style=\"text-align: right;\">\n",
       "      <th></th>\n",
       "      <th>Name</th>\n",
       "      <th>Intensity 1_B_C10</th>\n",
       "      <th>Intensity 1_B_C11</th>\n",
       "      <th>Intensity 1_B_C12</th>\n",
       "      <th>Intensity 1_B_C13</th>\n",
       "      <th>Intensity 1_B_C9</th>\n",
       "    </tr>\n",
       "    <tr>\n",
       "      <th>Protein IDs</th>\n",
       "      <th></th>\n",
       "      <th></th>\n",
       "      <th></th>\n",
       "      <th></th>\n",
       "      <th></th>\n",
       "      <th></th>\n",
       "    </tr>\n",
       "  </thead>\n",
       "  <tbody>\n",
       "    <tr>\n",
       "      <th>P11836</th>\n",
       "      <td>CD20_HUMAN B-lymphocyte antigen CD20</td>\n",
       "      <td>0.883406</td>\n",
       "      <td>0.427039</td>\n",
       "      <td>1.075887</td>\n",
       "      <td>0.498383</td>\n",
       "      <td>0.192597</td>\n",
       "    </tr>\n",
       "    <tr>\n",
       "      <th>P01903;P01906;P52735</th>\n",
       "      <td>DRA_HUMAN HLA class II histocompatibility anti...</td>\n",
       "      <td>0.970478</td>\n",
       "      <td>0.297401</td>\n",
       "      <td>2.218008</td>\n",
       "      <td>0.576823</td>\n",
       "      <td>0.110309</td>\n",
       "    </tr>\n",
       "    <tr>\n",
       "      <th>P04233</th>\n",
       "      <td>HG2A_HUMAN HLA class II histocompatibility ant...</td>\n",
       "      <td>1.579069</td>\n",
       "      <td>1.141634</td>\n",
       "      <td>2.245697</td>\n",
       "      <td>0.645421</td>\n",
       "      <td>0.524899</td>\n",
       "    </tr>\n",
       "    <tr>\n",
       "      <th>P04440</th>\n",
       "      <td>DPB1_HUMAN HLA class II histocompatibility ant...</td>\n",
       "      <td>NaN</td>\n",
       "      <td>-2.830767</td>\n",
       "      <td>-0.483552</td>\n",
       "      <td>-3.268068</td>\n",
       "      <td>-1.625014</td>\n",
       "    </tr>\n",
       "  </tbody>\n",
       "</table>\n",
       "</div>"
      ],
      "text/plain": [
       "                                                                   Name  \\\n",
       "Protein IDs                                                               \n",
       "P11836                            CD20_HUMAN B-lymphocyte antigen CD20    \n",
       "P01903;P01906;P52735  DRA_HUMAN HLA class II histocompatibility anti...   \n",
       "P04233                HG2A_HUMAN HLA class II histocompatibility ant...   \n",
       "P04440                DPB1_HUMAN HLA class II histocompatibility ant...   \n",
       "\n",
       "                      Intensity 1_B_C10  Intensity 1_B_C11  Intensity 1_B_C12  \\\n",
       "Protein IDs                                                                     \n",
       "P11836                         0.883406           0.427039           1.075887   \n",
       "P01903;P01906;P52735           0.970478           0.297401           2.218008   \n",
       "P04233                         1.579069           1.141634           2.245697   \n",
       "P04440                              NaN          -2.830767          -0.483552   \n",
       "\n",
       "                      Intensity 1_B_C13  Intensity 1_B_C9  \n",
       "Protein IDs                                                \n",
       "P11836                         0.498383          0.192597  \n",
       "P01903;P01906;P52735           0.576823          0.110309  \n",
       "P04233                         0.645421          0.524899  \n",
       "P04440                        -3.268068         -1.625014  "
      ]
     },
     "execution_count": 21,
     "metadata": {},
     "output_type": "execute_result"
    }
   ],
   "source": [
    "B_col =['Name','Intensity B_cells C10',\n",
    "        'Intensity B_cells C11','Intensity B_cells C12',\n",
    "        'Intensity B_cells C13','Intensity B_cells C9']\n",
    "\n",
    "B_col =['Name','Intensity 1_B_C10',\n",
    "        'Intensity 1_B_C11','Intensity 1_B_C12',\n",
    "        'Intensity 1_B_C13', 'Intensity 1_B_C9']\n",
    "to_show=['P11836',#'P01871',\n",
    "                      #'P13760;Q30167;P13762',\n",
    "                      'P01903;P01906;P52735',\n",
    "                      #'Q29974;P04229;Q30154;Q9TQE0;Q30134;P79483;P13761',\n",
    "                      'P04233',\n",
    "                      'P04440']\n",
    "\n",
    "B_ants = data_in_one_type[B_col].loc[to_show]\n",
    "B_ants"
   ]
  }
 ],
 "metadata": {
  "kernelspec": {
   "display_name": "Python 3",
   "language": "python",
   "name": "python3"
  },
  "language_info": {
   "codemirror_mode": {
    "name": "ipython",
    "version": 3
   },
   "file_extension": ".py",
   "mimetype": "text/x-python",
   "name": "python",
   "nbconvert_exporter": "python",
   "pygments_lexer": "ipython3",
   "version": "3.7.7"
  }
 },
 "nbformat": 4,
 "nbformat_minor": 2
}
