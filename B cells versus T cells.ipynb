{
 "cells": [
  {
   "cell_type": "markdown",
   "metadata": {},
   "source": [
    "## B cells versus T cells\n",
    "The data used in this notebook is lymphocyte data for one patient's B cells and T cells. We use this data to show the proteome variation between the cell types. Here, we note presence/absense changes and quantify fold changes using a T test.\n"
   ]
  },
  {
   "cell_type": "markdown",
   "metadata": {},
   "source": [
    "First, we import our loader module. This brings the functions defined there (in our repository at ~/load_data.py) into scope so we can use them in this script. Then we can load our data and store it as <code>data</code>.\n",
    "\n",
    "Calling <code>head</code> shows the first several lines of the dataframe, which provides an idea of the type of data present and the structure of the dataframe."
   ]
  },
  {
   "cell_type": "code",
   "execution_count": 1,
   "metadata": {},
   "outputs": [],
   "source": [
    "import load_data\n",
    "#currently pulls example data\n",
    "data = load_data.load()\n",
    "#data.head()"
   ]
  },
  {
   "cell_type": "code",
   "execution_count": 2,
   "metadata": {},
   "outputs": [],
   "source": [
    "def check_present(row):\n",
    "    bool_row = []\n",
    "    for i in row:\n",
    "        bool_row.append(bool(i))\n",
    "    return sum(bool_row)\n",
    "\n",
    "def check_three_of_each_type(row, cell_types=[\" A_\", \" B_\"]):\n",
    "    present_in_types = []\n",
    "    for i in cell_types:\n",
    "        cells_of_type = list(s for s in row.index if i in s)\n",
    "        data_by_type = row.loc[cells_of_type]\n",
    "        in_type = check_present(data_by_type)\n",
    "        three_in_type = bool(in_type > 2)\n",
    "        present_in_types.append(three_in_type)\n",
    "    if sum(present_in_types) == len(cell_types):\n",
    "        return True\n",
    "    else: return False\n",
    "    \n",
    "def check_presence_absence(row, cell_types=[\" A_\", \" B_\"]):\n",
    "    present_in_types = {}\n",
    "    for i in cell_types:\n",
    "        cells_of_type = list(s for s in row.index if i in s)\n",
    "        data_by_type = row.loc[cells_of_type]\n",
    "        in_type = check_present(data_by_type)\n",
    "        present_in_types[i] = in_type\n",
    "    if 0 in list(present_in_types.values()):#absent in one type\n",
    "        if present_in_types[cell_types[0]] > 2:\n",
    "            return 1\n",
    "        elif present_in_types[cell_types[1]]> 2:\n",
    "            return 2"
   ]
  },
  {
   "cell_type": "markdown",
   "metadata": {},
   "source": [
    "Here, we record which proteins are only identified in one cell type."
   ]
  },
  {
   "cell_type": "code",
   "execution_count": 3,
   "metadata": {},
   "outputs": [],
   "source": [
    "present_only_in = data.apply(check_presence_absence, axis=1).dropna()\n",
    "present_only_in = data.loc[present_only_in.index]\n",
    "#present_only_in"
   ]
  },
  {
   "cell_type": "markdown",
   "metadata": {},
   "source": [
    "Next, we select the proteins that are measured in at least three samples from each group, allowing the calculations to proceed without imputed zero-handling."
   ]
  },
  {
   "cell_type": "code",
   "execution_count": 4,
   "metadata": {},
   "outputs": [],
   "source": [
    "indecies = data.apply(check_three_of_each_type, axis=1)\n",
    "data = data[indecies]"
   ]
  },
  {
   "cell_type": "markdown",
   "metadata": {},
   "source": [
    "Now we normalize across runs."
   ]
  },
  {
   "cell_type": "code",
   "execution_count": null,
   "metadata": {},
   "outputs": [],
   "source": []
  },
  {
   "cell_type": "markdown",
   "metadata": {},
   "source": [
    "Finally, we will calculate the coeffients of variation for each protein within each of the two cell types. "
   ]
  },
  {
   "cell_type": "code",
   "execution_count": 5,
   "metadata": {},
   "outputs": [],
   "source": [
    "from scipy.stats import ttest_ind\n",
    "from statistics import mean\n",
    "import pandas as pd"
   ]
  },
  {
   "cell_type": "code",
   "execution_count": 6,
   "metadata": {},
   "outputs": [],
   "source": [
    "def ttest_wrapper(row, cell_types = [' A_', ' B_']):\n",
    "    split_row = []\n",
    "    for i in cell_types:\n",
    "        cells_of_type = list(s for s in row.index if i in s)\n",
    "        split_row.append(row.loc[cells_of_type])\n",
    "        \n",
    "    tstat = ttest_ind(split_row[0],split_row[1])\n",
    "    tstat = pd.Series(dict(statistic=tstat[0], pvalue=tstat[1]))\n",
    "    return tstat\n",
    "    \n",
    "#Call ttest function\n",
    "tstats = data.apply(ttest_wrapper, axis=1)\n",
    "    "
   ]
  },
  {
   "cell_type": "raw",
   "metadata": {},
   "source": [
    "#Here we report an overview\n",
    "print ('Mean T score:\\t',mean(tstats['statistic']))\n",
    "print ('Min T score: \\t',min(tstats['statistic']))\n",
    "print ('Max T score: \\t',max(tstats['statistic']))\n",
    "var_over50 = len([i for i in tstats['statistic'] if abs(i) >  .5])\n",
    "var_over200 = len([i for i in tstats['statistic'] if abs(i) > 2])\n",
    "print ('Over 50%:\\t',var_over50,'\\t{0:.2f}'.format(var_over50/len(tstats['statistic'])))\n",
    "print ('Over 200%:\\t',var_over200,'\\t{0:.2f}'.format(var_over200/len(tstats['statistic'])))\n",
    "print ('Total:  \\t',len(tstats['statistic']))\n",
    "print ()"
   ]
  },
  {
   "cell_type": "code",
   "execution_count": 7,
   "metadata": {},
   "outputs": [
    {
     "data": {
      "image/png": "[encoded data removed]",
      "text/plain": [
       "<Figure size 432x288 with 1 Axes>"
      ]
     },
     "metadata": {
      "needs_background": "light"
     },
     "output_type": "display_data"
    }
   ],
   "source": [
    "#graph volcano\n",
    "import matplotlib.pyplot as plt\n",
    "import seaborn as sns\n",
    "\n",
    "figure = sns.scatterplot(x='statistic',y='pvalue',data=tstats)\n",
    "figure.set_title(\"B cells vs T cells\")\n",
    "figure.invert_yaxis()\n"
   ]
  },
  {
   "cell_type": "markdown",
   "metadata": {},
   "source": [
    "This shows...\n"
   ]
  },
  {
   "cell_type": "code",
   "execution_count": 8,
   "metadata": {
    "scrolled": true
   },
   "outputs": [],
   "source": [
    "#get higher-in-B and higher-in-T proteins\n",
    "def is_altered(tscore):\n",
    "    if tscore['pvalue'] < .05:\n",
    "        if tscore['statistic'] > 2:\n",
    "            #first type is statistically bigger\n",
    "            return 1\n",
    "        elif tscore['statistic'] < -2:\n",
    "            #second type is statistically bigger\n",
    "            return 2\n",
    "        \n",
    "altered = tstats.apply(is_altered, axis=1).dropna()"
   ]
  },
  {
   "cell_type": "code",
   "execution_count": 9,
   "metadata": {},
   "outputs": [],
   "source": [
    "#altered.value_counts()"
   ]
  },
  {
   "cell_type": "code",
   "execution_count": 10,
   "metadata": {},
   "outputs": [],
   "source": [
    "#tstats.loc[altered.index].sort_values('statistic')"
   ]
  },
  {
   "cell_type": "code",
   "execution_count": null,
   "metadata": {},
   "outputs": [],
   "source": []
  }
 ],
 "metadata": {
  "kernelspec": {
   "display_name": "Python 3",
   "language": "python",
   "name": "python3"
  },
  "language_info": {
   "codemirror_mode": {
    "name": "ipython",
    "version": 3
   },
   "file_extension": ".py",
   "mimetype": "text/x-python",
   "name": "python",
   "nbconvert_exporter": "python",
   "pygments_lexer": "ipython3",
   "version": "3.7.7"
  }
 },
 "nbformat": 4,
 "nbformat_minor": 2
}
