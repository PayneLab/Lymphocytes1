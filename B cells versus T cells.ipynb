{
 "cells": [
  {
   "cell_type": "markdown",
   "metadata": {},
   "source": [
    "## B cells versus T cells\n",
    "The data used in this notebook is lymphocyte data for one patient's B cells and T cells. We use this data to show the proteome variation between the cell types. Here, we note presence/absense changes and quantify fold changes using a T test.\n"
   ]
  },
  {
   "cell_type": "markdown",
   "metadata": {},
   "source": [
    "First, we import our loader module. This brings the functions defined there (in our repository at ~/load_data.py) into scope so we can use them in this script. Then we can load our data and store it as <code>data</code>.\n",
    "\n",
    "Calling <code>head</code> shows the first several lines of the dataframe, which provides an idea of the type of data present and the structure of the dataframe."
   ]
  },
  {
   "cell_type": "code",
   "execution_count": 1,
   "metadata": {},
   "outputs": [],
   "source": [
    "import load_data\n",
    "data_raw = load_data.load_max_quant()\n",
    "#data_raw.head()"
   ]
  },
  {
   "cell_type": "markdown",
   "metadata": {},
   "source": [
    "Before any analysis, we normalize across runs."
   ]
  },
  {
   "cell_type": "code",
   "execution_count": 2,
   "metadata": {},
   "outputs": [],
   "source": [
    "from numpy import nan\n",
    "from numpy import log2\n",
    "from statistics import median\n",
    "\n",
    "data_log2 = log2(data_raw.replace(0,nan))\n",
    "data_log2_normalized = data_log2.apply(lambda series: series-median(series.dropna()))"
   ]
  },
  {
   "cell_type": "markdown",
   "metadata": {},
   "source": [
    "These are some methods that check if a value was measured or not and if the protein was measured in each type."
   ]
  },
  {
   "cell_type": "code",
   "execution_count": 3,
   "metadata": {},
   "outputs": [],
   "source": [
    "from numpy import isnan\n",
    "def check_present(row):\n",
    "    bool_row = []\n",
    "    for i in row:\n",
    "        bool_row.append(not isnan(i))\n",
    "    return sum(bool_row)\n",
    "\n",
    "def check_three_of_each_type(row, cell_types=[\"B_cell\", \"T_cell\"]):\n",
    "    present_in_types = []\n",
    "    for i in cell_types:\n",
    "        cells_of_type = list(s for s in row.index if i in s)\n",
    "        data_by_type = row.loc[cells_of_type]\n",
    "        in_type = check_present(data_by_type)\n",
    "        three_in_type = bool(in_type >= 3)\n",
    "        present_in_types.append(three_in_type)\n",
    "    if sum(present_in_types) == len(cell_types):\n",
    "        return True\n",
    "    else: return False\n",
    "    \n",
    "def check_presence_absence(row, cell_types=[\"B_cell\", \"T_cell\"], min_reps=3):\n",
    "    present_in_types = {}\n",
    "    for i in cell_types:\n",
    "        cells_of_type = list(s for s in row.index if i in s)\n",
    "        data_by_type = row.loc[cells_of_type]\n",
    "        in_type = check_present(data_by_type)\n",
    "        present_in_types[i] = in_type\n",
    "    if 0 in list(present_in_types.values()):#absent in one type\n",
    "        if present_in_types[cell_types[0]] >= min_reps:\n",
    "            return \"B_cell\"\n",
    "        elif present_in_types[cell_types[1]]>= min_reps:\n",
    "            return \"T_cell\""
   ]
  },
  {
   "cell_type": "markdown",
   "metadata": {},
   "source": [
    "Here we record which proteins are only identified in one cell type. We'll set these aside for now, in the <code>data_in_one_type</code> dataframe. "
   ]
  },
  {
   "cell_type": "code",
   "execution_count": 4,
   "metadata": {},
   "outputs": [
    {
     "name": "stdout",
     "output_type": "stream",
     "text": [
      "B_cell    40\n",
      "T_cell    36\n",
      "dtype: int64\n"
     ]
    }
   ],
   "source": [
    "present_only_in = data_log2_normalized.apply(check_presence_absence, axis=1).dropna()\n",
    "print(present_only_in.value_counts())\n",
    "data_in_one_type =data_log2_normalized.loc[present_only_in.index]\n",
    "data_in_one_type['Type'] = present_only_in"
   ]
  },
  {
   "cell_type": "markdown",
   "metadata": {},
   "source": [
    "Next, we select the proteins that are measured in at least three samples from each group, allowing the calculations to proceed without imputed zero-handling."
   ]
  },
  {
   "cell_type": "code",
   "execution_count": 5,
   "metadata": {},
   "outputs": [],
   "source": [
    "indecies = data_log2_normalized.apply(check_three_of_each_type, axis=1)\n",
    "data = data_log2_normalized[indecies]"
   ]
  },
  {
   "cell_type": "markdown",
   "metadata": {},
   "source": [
    "Finally, we will calculate the coeffients of variation for each protein within each of the two cell types. "
   ]
  },
  {
   "cell_type": "code",
   "execution_count": 6,
   "metadata": {},
   "outputs": [],
   "source": [
    "from scipy.stats import ttest_ind\n",
    "from statistics import mean\n",
    "import pandas as pd"
   ]
  },
  {
   "cell_type": "code",
   "execution_count": 7,
   "metadata": {},
   "outputs": [
    {
     "name": "stderr",
     "output_type": "stream",
     "text": [
      "D:\\Anaconda3\\lib\\site-packages\\scipy\\stats\\_distn_infrastructure.py:1932: RuntimeWarning: invalid value encountered in less_equal\n",
      "  cond2 = cond0 & (x <= _a)\n"
     ]
    }
   ],
   "source": [
    "def ttest_wrapper(row, cell_types = [\"B_cell\", \"T_cell\"]):\n",
    "    split_row = []\n",
    "    for i in cell_types:\n",
    "        cells_of_type = list(s for s in row.index if i in s)\n",
    "        split_row.append(row.loc[cells_of_type])\n",
    "        \n",
    "    tstat = ttest_ind(split_row[0],split_row[1])\n",
    "    tstat = pd.Series(dict(statistic=tstat[0], pvalue=tstat[1]))\n",
    "    return tstat\n",
    "    \n",
    "#Call ttest function\n",
    "tstats = data.apply(ttest_wrapper, axis=1)"
   ]
  },
  {
   "cell_type": "code",
   "execution_count": 8,
   "metadata": {},
   "outputs": [],
   "source": [
    "#calculate fold_changes\n",
    "from numpy import log2\n",
    "def get_fold_changes(row, cell_types=[\"B_cell\", \"T_cell\"]):\n",
    "    means = {}\n",
    "    for i in cell_types:\n",
    "        cells_of_type = list(s for s in row.index if i in s)\n",
    "        data_by_type = row.loc[cells_of_type]\n",
    "        means[i] = mean(data_by_type)\n",
    "    return (means[cell_types[0]]-means[cell_types[1]])\n",
    "        \n",
    "tstats['log2(B)-log2(T)'] = data.apply(get_fold_changes, axis=1)\n",
    "#tstats['log2 Fold Change'] = log2(tstats['fold_change'])"
   ]
  },
  {
   "cell_type": "code",
   "execution_count": 9,
   "metadata": {},
   "outputs": [
    {
     "data": {
      "text/plain": [
       "<matplotlib.lines.Line2D at 0x1d0c3c46588>"
      ]
     },
     "execution_count": 9,
     "metadata": {},
     "output_type": "execute_result"
    },
    {
     "data": {
      "image/png": "[encoded data removed]",
      "text/plain": [
       "<Figure size 432x288 with 1 Axes>"
      ]
     },
     "metadata": {
      "needs_background": "light"
     },
     "output_type": "display_data"
    }
   ],
   "source": [
    "#graph volcano\n",
    "import matplotlib.pyplot as plt\n",
    "import seaborn as sns\n",
    "from numpy import log10\n",
    "tstats['-log p'] = -log10(tstats['pvalue'])\n",
    "\n",
    "figure = sns.scatterplot(x='log2(B)-log2(T)',y='-log p',data=tstats)\n",
    "figure.set_title(\"B cells vs T cells\")\n",
    "plt.axvline(1, color ='orange')\n",
    "plt.axvline(-1, color ='orange')\n",
    "plt.axhline(-log10(.05), color ='orange')\n"
   ]
  },
  {
   "cell_type": "code",
   "execution_count": 10,
   "metadata": {
    "scrolled": true
   },
   "outputs": [],
   "source": [
    "#get higher-in-B and higher-in-T proteins\n",
    "def is_altered(tscore, pvalue=.05,change_factor=2):\n",
    "    log2_fold_change=log2(change_factor)\n",
    "    if tscore['pvalue'] < pvalue:\n",
    "        if tscore['log2(B)-log2(T)'] > log2_fold_change:\n",
    "            #first type is statistically bigger\n",
    "            return 'B cells'\n",
    "        elif tscore['log2(B)-log2(T)'] < -log2_fold_change:\n",
    "            #second type is statistically bigger\n",
    "            return \"T cells\"\n",
    "        \n",
    "altered = tstats.apply(is_altered, axis=1).dropna()"
   ]
  },
  {
   "cell_type": "code",
   "execution_count": 11,
   "metadata": {},
   "outputs": [
    {
     "data": {
      "text/plain": [
       "T cells    36\n",
       "B cells    19\n",
       "dtype: int64"
      ]
     },
     "execution_count": 11,
     "metadata": {},
     "output_type": "execute_result"
    }
   ],
   "source": [
    "altered.value_counts()"
   ]
  },
  {
   "cell_type": "code",
   "execution_count": 12,
   "metadata": {},
   "outputs": [
    {
     "name": "stdout",
     "output_type": "stream",
     "text": [
      "P<0.05, >150% of the other type\n",
      "T cells    65\n",
      "B cells    28\n",
      "dtype: int64\n",
      "\n",
      "P<0.05, >200% of the other type\n",
      "T cells    36\n",
      "B cells    19\n",
      "dtype: int64\n",
      "\n",
      "P<0.05, >500% of the other type\n",
      "T cells    3\n",
      "B cells    3\n",
      "dtype: int64\n",
      "\n",
      "P<0.01, >150% of the other type\n",
      "T cells    39\n",
      "B cells    14\n",
      "dtype: int64\n",
      "\n",
      "P<0.01, >200% of the other type\n",
      "T cells    23\n",
      "B cells    11\n",
      "dtype: int64\n",
      "\n",
      "P<0.01, >500% of the other type\n",
      "T cells    3\n",
      "B cells    3\n",
      "dtype: int64\n"
     ]
    }
   ],
   "source": [
    "print(\"P<0.05, >150% of the other type\")\n",
    "print(tstats.apply(is_altered, axis=1, pvalue=.05,change_factor=1.5).value_counts()) #50% increase from either\n",
    "print(\"\\nP<0.05, >200% of the other type\")\n",
    "print(tstats.apply(is_altered, axis=1, pvalue=.05,change_factor=2).value_counts()) #Double\n",
    "print(\"\\nP<0.05, >500% of the other type\")\n",
    "print(tstats.apply(is_altered, axis=1, pvalue=.05,change_factor=5).value_counts()) #5 times larger\n",
    "\n",
    "print(\"\\nP<0.01, >150% of the other type\")\n",
    "print(tstats.apply(is_altered, axis=1, pvalue=.01,change_factor=1.5).value_counts()) #50% increase from either\n",
    "print(\"\\nP<0.01, >200% of the other type\")\n",
    "print(tstats.apply(is_altered, axis=1, pvalue=.01,change_factor=2).value_counts()) #Double\n",
    "print(\"\\nP<0.01, >500% of the other type\")\n",
    "print(tstats.apply(is_altered, axis=1, pvalue=.01,change_factor=5).value_counts()) #5 times larger"
   ]
  },
  {
   "cell_type": "code",
   "execution_count": 13,
   "metadata": {},
   "outputs": [
    {
     "data": {
      "image/png": "[encoded data removed]",
      "text/plain": [
       "<Figure size 432x288 with 1 Axes>"
      ]
     },
     "metadata": {
      "needs_background": "light"
     },
     "output_type": "display_data"
    }
   ],
   "source": [
    "figure = sns.scatterplot(x='log2(B)-log2(T)',y='-log p',data=tstats)\n",
    "figure2 = sns.scatterplot(x='log2(B)-log2(T)',y='-log p',data=tstats.loc[altered.index])\n",
    "plt.rc('axes',labelsize=16)\n",
    "plt.xticks(fontsize=14)\n",
    "plt.yticks(fontsize=14)\n",
    "#plt.title(\"B cells vs T cells\", fontsize=20)\n",
    "\n",
    "plt.savefig(\"data/BvsT.png\", dpi=300)"
   ]
  },
  {
   "cell_type": "markdown",
   "metadata": {},
   "source": [
    "This shows the differentially expressed proteins. Recall that this dataset is restricted to those expressed in at least three of each cell type.\n",
    "\n",
    "The next step is to identify those proteins and examine the biological pathways they represent to explain why they are different between the two cell types.\n",
    "\n",
    "Here we get the protein names from the fasta file, which remains the same regardless of which software the data was quantified using."
   ]
  },
  {
   "cell_type": "code",
   "execution_count": 14,
   "metadata": {},
   "outputs": [],
   "source": [
    "protein_names = load_data.load_fasta()"
   ]
  },
  {
   "cell_type": "code",
   "execution_count": 15,
   "metadata": {},
   "outputs": [],
   "source": [
    "protein_names_by_group={}\n",
    "for ID in data_raw.index:\n",
    "    if ';' in ID:\n",
    "        ids = ID.split(';')\n",
    "        names=''\n",
    "        for i in ids:\n",
    "            if i in protein_names.index:\n",
    "                names=names + protein_names[i] + ';'\n",
    "        names = names[:-1]\n",
    "        protein_names_by_group[ID] = names\n",
    "    else:\n",
    "        if i in protein_names.index:\n",
    "            protein_names_by_group[ID]=protein_names[ID]\n",
    "protein_names_by_group = pd.Series(list(protein_names_by_group.values()), index=protein_names_by_group.keys())"
   ]
  },
  {
   "cell_type": "markdown",
   "metadata": {},
   "source": [
    "Here we add the names to the <code>tstats</code> dataframe, which contains the fold changes for each protein. Then we can list the proteins that are altered. For readability, we use <code> head()</code> to display the first few or <code>to_csv</code> to write out to a file."
   ]
  },
  {
   "cell_type": "code",
   "execution_count": 16,
   "metadata": {},
   "outputs": [
    {
     "data": {
      "text/html": [
       "<div>\n",
       "<style scoped>\n",
       "    .dataframe tbody tr th:only-of-type {\n",
       "        vertical-align: middle;\n",
       "    }\n",
       "\n",
       "    .dataframe tbody tr th {\n",
       "        vertical-align: top;\n",
       "    }\n",
       "\n",
       "    .dataframe thead th {\n",
       "        text-align: right;\n",
       "    }\n",
       "</style>\n",
       "<table border=\"1\" class=\"dataframe\">\n",
       "  <thead>\n",
       "    <tr style=\"text-align: right;\">\n",
       "      <th></th>\n",
       "      <th>pvalue</th>\n",
       "      <th>log2(B)-log2(T)</th>\n",
       "      <th>Name</th>\n",
       "    </tr>\n",
       "    <tr>\n",
       "      <th>Protein IDs</th>\n",
       "      <th></th>\n",
       "      <th></th>\n",
       "      <th></th>\n",
       "    </tr>\n",
       "  </thead>\n",
       "  <tbody>\n",
       "    <tr>\n",
       "      <th>P09960</th>\n",
       "      <td>0.000017</td>\n",
       "      <td>2.536365</td>\n",
       "      <td>LKHA4_HUMAN Leukotriene A-4 hydrolase</td>\n",
       "    </tr>\n",
       "    <tr>\n",
       "      <th>Q96KP4</th>\n",
       "      <td>0.000028</td>\n",
       "      <td>2.523796</td>\n",
       "      <td>CNDP2_HUMAN Cytosolic non-specific dipeptidase</td>\n",
       "    </tr>\n",
       "    <tr>\n",
       "      <th>P29350</th>\n",
       "      <td>0.000022</td>\n",
       "      <td>2.362278</td>\n",
       "      <td>PTN6_HUMAN Tyrosine-protein phosphatase non-re...</td>\n",
       "    </tr>\n",
       "    <tr>\n",
       "      <th>Q16666;Q6K0P9</th>\n",
       "      <td>0.014952</td>\n",
       "      <td>2.224931</td>\n",
       "      <td>IF16_HUMAN Gamma-interferon-inducible protein ...</td>\n",
       "    </tr>\n",
       "    <tr>\n",
       "      <th>P30040</th>\n",
       "      <td>0.005952</td>\n",
       "      <td>1.882016</td>\n",
       "      <td>ERP29_HUMAN Endoplasmic reticulum resident pro...</td>\n",
       "    </tr>\n",
       "  </tbody>\n",
       "</table>\n",
       "</div>"
      ],
      "text/plain": [
       "                 pvalue  log2(B)-log2(T)  \\\n",
       "Protein IDs                                \n",
       "P09960         0.000017         2.536365   \n",
       "Q96KP4         0.000028         2.523796   \n",
       "P29350         0.000022         2.362278   \n",
       "Q16666;Q6K0P9  0.014952         2.224931   \n",
       "P30040         0.005952         1.882016   \n",
       "\n",
       "                                                            Name  \n",
       "Protein IDs                                                       \n",
       "P09960                    LKHA4_HUMAN Leukotriene A-4 hydrolase   \n",
       "Q96KP4           CNDP2_HUMAN Cytosolic non-specific dipeptidase   \n",
       "P29350         PTN6_HUMAN Tyrosine-protein phosphatase non-re...  \n",
       "Q16666;Q6K0P9  IF16_HUMAN Gamma-interferon-inducible protein ...  \n",
       "P30040         ERP29_HUMAN Endoplasmic reticulum resident pro...  "
      ]
     },
     "execution_count": 16,
     "metadata": {},
     "output_type": "execute_result"
    }
   ],
   "source": [
    "tstats['Name']=protein_names_by_group\n",
    "tstats.loc[altered.index].sort_values('log2(B)-log2(T)',ascending=False)[['pvalue','log2(B)-log2(T)','Name']].head()\n",
    "    #.to_csv('data/altered.tsv', sep='\\t')"
   ]
  },
  {
   "cell_type": "markdown",
   "metadata": {},
   "source": [
    "Recall the dataframe of the proteins found only in one type, <code>data_in_one_type</code> we made earlier. Here, we match the names to it as well."
   ]
  },
  {
   "cell_type": "code",
   "execution_count": 17,
   "metadata": {},
   "outputs": [
    {
     "data": {
      "text/html": [
       "<div>\n",
       "<style scoped>\n",
       "    .dataframe tbody tr th:only-of-type {\n",
       "        vertical-align: middle;\n",
       "    }\n",
       "\n",
       "    .dataframe tbody tr th {\n",
       "        vertical-align: top;\n",
       "    }\n",
       "\n",
       "    .dataframe thead th {\n",
       "        text-align: right;\n",
       "    }\n",
       "</style>\n",
       "<table border=\"1\" class=\"dataframe\">\n",
       "  <thead>\n",
       "    <tr style=\"text-align: right;\">\n",
       "      <th></th>\n",
       "      <th>Type</th>\n",
       "      <th>Name</th>\n",
       "    </tr>\n",
       "    <tr>\n",
       "      <th>Protein IDs</th>\n",
       "      <th></th>\n",
       "      <th></th>\n",
       "    </tr>\n",
       "  </thead>\n",
       "  <tbody>\n",
       "    <tr>\n",
       "      <th>A6NI72;P14598;A8MVU1</th>\n",
       "      <td>B_cell</td>\n",
       "      <td>NCF1B_HUMAN Putative neutrophil cytosol factor...</td>\n",
       "    </tr>\n",
       "    <tr>\n",
       "      <th>Q06187</th>\n",
       "      <td>B_cell</td>\n",
       "      <td>BTK_HUMAN Tyrosine-protein kinase BTK</td>\n",
       "    </tr>\n",
       "    <tr>\n",
       "      <th>P11586</th>\n",
       "      <td>B_cell</td>\n",
       "      <td>C1TC_HUMAN C-1-tetrahydrofolate synthase, cyto...</td>\n",
       "    </tr>\n",
       "    <tr>\n",
       "      <th>P11836</th>\n",
       "      <td>B_cell</td>\n",
       "      <td>CD20_HUMAN B-lymphocyte antigen CD20</td>\n",
       "    </tr>\n",
       "    <tr>\n",
       "      <th>P13284</th>\n",
       "      <td>B_cell</td>\n",
       "      <td>GILT_HUMAN Gamma-interferon-inducible lysosoma...</td>\n",
       "    </tr>\n",
       "  </tbody>\n",
       "</table>\n",
       "</div>"
      ],
      "text/plain": [
       "                        Type  \\\n",
       "Protein IDs                    \n",
       "A6NI72;P14598;A8MVU1  B_cell   \n",
       "Q06187                B_cell   \n",
       "P11586                B_cell   \n",
       "P11836                B_cell   \n",
       "P13284                B_cell   \n",
       "\n",
       "                                                                   Name  \n",
       "Protein IDs                                                              \n",
       "A6NI72;P14598;A8MVU1  NCF1B_HUMAN Putative neutrophil cytosol factor...  \n",
       "Q06187                           BTK_HUMAN Tyrosine-protein kinase BTK   \n",
       "P11586                C1TC_HUMAN C-1-tetrahydrofolate synthase, cyto...  \n",
       "P11836                            CD20_HUMAN B-lymphocyte antigen CD20   \n",
       "P13284                GILT_HUMAN Gamma-interferon-inducible lysosoma...  "
      ]
     },
     "execution_count": 17,
     "metadata": {},
     "output_type": "execute_result"
    }
   ],
   "source": [
    "data_in_one_type['Name'] = protein_names_by_group\n",
    "data_in_one_type[['Type','Name']].sort_values('Type').head()\n",
    "#data_in_one_type.sort_values('Type').to_csv('data/in_one_type.tsv', sep='\\t')"
   ]
  },
  {
   "cell_type": "markdown",
   "metadata": {},
   "source": [
    "Now that we have the proteins expressed only in or significantly more in, we are going to perform Gene Set Enrichment Analysis (GSEA) to identify the pathways that are more active in one type or the other. For example, we see T cell signalling pathways active in T cells, but not B cells, while B cell signalling pathways are only active in B cells."
   ]
  },
  {
   "cell_type": "code",
   "execution_count": 18,
   "metadata": {},
   "outputs": [],
   "source": [
    "data_in_one_type['GeneID']=data_in_one_type.Name.apply(lambda n: str(n).split('_HUMAN')[0])\n",
    "B_cell_only_geneset = data_in_one_type[(data_in_one_type.Type=='B_cell')].GeneID\n",
    "T_cell_only_geneset= data_in_one_type[(data_in_one_type.Type=='T_cell')].GeneID"
   ]
  },
  {
   "cell_type": "code",
   "execution_count": null,
   "metadata": {},
   "outputs": [],
   "source": []
  },
  {
   "cell_type": "code",
   "execution_count": null,
   "metadata": {},
   "outputs": [],
   "source": []
  },
  {
   "cell_type": "code",
   "execution_count": null,
   "metadata": {},
   "outputs": [],
   "source": []
  },
  {
   "cell_type": "code",
   "execution_count": null,
   "metadata": {},
   "outputs": [],
   "source": []
  },
  {
   "cell_type": "markdown",
   "metadata": {},
   "source": [
    "There are a number of characteristic proteins such as B or T cell antigens that are, as expected, only on the associated cell type. The next two code cells retrieve them from the dataframe to display how strongly they are expressed in each sample."
   ]
  },
  {
   "cell_type": "code",
   "execution_count": 19,
   "metadata": {},
   "outputs": [],
   "source": [
    "B_col =['Name','Intensity B_cells C10',\n",
    "        'Intensity B_cells C11','Intensity B_cells C12',\n",
    "        'Intensity B_cells C13','Intensity B_cells C9']\n",
    "\n",
    "B_ants = data_in_one_type[B_col].loc[['P11836','P01871',\n",
    "                      'P13760;Q30167;P13762',\n",
    "                      'P01903;P01906;P52735',\n",
    "                      'Q29974;P04229;Q30154;Q9TQE0;Q30134;P79483;P13761',\n",
    "                      'P04233',\n",
    "                      'P04440']]\n",
    "#B_ants"
   ]
  },
  {
   "cell_type": "code",
   "execution_count": 20,
   "metadata": {},
   "outputs": [],
   "source": [
    "T_col=['Name','Intensity T_cells D10',\n",
    "       'Intensity T_cells D11','Intensity T_cells D12',\n",
    "       'Intensity T_cells D13','Intensity T_cells D9']\n",
    "\n",
    "T_ants = data_in_one_type[T_col].loc[['P06729','P06127','P30203']]\n",
    "#T_ants"
   ]
  },
  {
   "cell_type": "code",
   "execution_count": null,
   "metadata": {},
   "outputs": [],
   "source": []
  }
 ],
 "metadata": {
  "kernelspec": {
   "display_name": "Python 3",
   "language": "python",
   "name": "python3"
  },
  "language_info": {
   "codemirror_mode": {
    "name": "ipython",
    "version": 3
   },
   "file_extension": ".py",
   "mimetype": "text/x-python",
   "name": "python",
   "nbconvert_exporter": "python",
   "pygments_lexer": "ipython3",
   "version": "3.7.7"
  }
 },
 "nbformat": 4,
 "nbformat_minor": 2
}
