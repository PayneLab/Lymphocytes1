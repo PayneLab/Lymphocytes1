{
 "cells": [
  {
   "cell_type": "markdown",
   "metadata": {},
   "source": [
    "## Quantitative QC by CV calculation\n",
    "The data used in this notebook is lymphocyte data for one patient's B cells and T cells. We use this data to show the proteome variation between the cell types. Here, we calculate CVs to show the quality of the data.\n"
   ]
  },
  {
   "cell_type": "markdown",
   "metadata": {},
   "source": [
    "First, we import our loader module. This brings the functions defined there (in our repository at ~/load_data.py) into scope so we can use them in this script. Then we can load our data and store it as <code>data</code>.\n",
    "\n",
    "Calling <code>head</code> shows the first several lines of the dataframe, which provides an idea of the type of data present and the structure of the dataframe."
   ]
  },
  {
   "cell_type": "code",
   "execution_count": 1,
   "metadata": {},
   "outputs": [
    {
     "data": {
      "text/html": [
       "<div>\n",
       "<style scoped>\n",
       "    .dataframe tbody tr th:only-of-type {\n",
       "        vertical-align: middle;\n",
       "    }\n",
       "\n",
       "    .dataframe tbody tr th {\n",
       "        vertical-align: top;\n",
       "    }\n",
       "\n",
       "    .dataframe thead th {\n",
       "        text-align: right;\n",
       "    }\n",
       "</style>\n",
       "<table border=\"1\" class=\"dataframe\">\n",
       "  <thead>\n",
       "    <tr style=\"text-align: right;\">\n",
       "      <th></th>\n",
       "      <th>Intensity 1_B_C10</th>\n",
       "      <th>Intensity 1_B_C11</th>\n",
       "      <th>Intensity 1_B_C12</th>\n",
       "      <th>Intensity 1_B_C13</th>\n",
       "      <th>Intensity 1_B_C9</th>\n",
       "      <th>Intensity 1_T_D10</th>\n",
       "      <th>Intensity 1_T_D11</th>\n",
       "      <th>Intensity 1_T_D12</th>\n",
       "      <th>Intensity 1_T_D13</th>\n",
       "      <th>Intensity 1_T_D9</th>\n",
       "    </tr>\n",
       "    <tr>\n",
       "      <th>Protein IDs</th>\n",
       "      <th></th>\n",
       "      <th></th>\n",
       "      <th></th>\n",
       "      <th></th>\n",
       "      <th></th>\n",
       "      <th></th>\n",
       "      <th></th>\n",
       "      <th></th>\n",
       "      <th></th>\n",
       "      <th></th>\n",
       "    </tr>\n",
       "  </thead>\n",
       "  <tbody>\n",
       "    <tr>\n",
       "      <th>P0DPI2;A0A0B4J2D5</th>\n",
       "      <td>265300</td>\n",
       "      <td>248290</td>\n",
       "      <td>1878900</td>\n",
       "      <td>289210</td>\n",
       "      <td>0</td>\n",
       "      <td>0</td>\n",
       "      <td>0</td>\n",
       "      <td>0</td>\n",
       "      <td>0</td>\n",
       "      <td>654710</td>\n",
       "    </tr>\n",
       "    <tr>\n",
       "      <th>A0AVT1</th>\n",
       "      <td>0</td>\n",
       "      <td>0</td>\n",
       "      <td>440250</td>\n",
       "      <td>139370</td>\n",
       "      <td>0</td>\n",
       "      <td>0</td>\n",
       "      <td>303590</td>\n",
       "      <td>0</td>\n",
       "      <td>0</td>\n",
       "      <td>0</td>\n",
       "    </tr>\n",
       "    <tr>\n",
       "      <th>A6NHQ2</th>\n",
       "      <td>126410</td>\n",
       "      <td>0</td>\n",
       "      <td>0</td>\n",
       "      <td>89903</td>\n",
       "      <td>0</td>\n",
       "      <td>263160</td>\n",
       "      <td>0</td>\n",
       "      <td>0</td>\n",
       "      <td>110120</td>\n",
       "      <td>0</td>\n",
       "    </tr>\n",
       "    <tr>\n",
       "      <th>A6NI72;P14598;A8MVU1</th>\n",
       "      <td>1246500</td>\n",
       "      <td>1821600</td>\n",
       "      <td>3189500</td>\n",
       "      <td>2912100</td>\n",
       "      <td>1045700</td>\n",
       "      <td>0</td>\n",
       "      <td>0</td>\n",
       "      <td>0</td>\n",
       "      <td>0</td>\n",
       "      <td>0</td>\n",
       "    </tr>\n",
       "    <tr>\n",
       "      <th>P62308;A8MWD9</th>\n",
       "      <td>0</td>\n",
       "      <td>305850</td>\n",
       "      <td>0</td>\n",
       "      <td>0</td>\n",
       "      <td>0</td>\n",
       "      <td>0</td>\n",
       "      <td>0</td>\n",
       "      <td>0</td>\n",
       "      <td>0</td>\n",
       "      <td>372880</td>\n",
       "    </tr>\n",
       "  </tbody>\n",
       "</table>\n",
       "</div>"
      ],
      "text/plain": [
       "                      Intensity 1_B_C10  Intensity 1_B_C11  Intensity 1_B_C12  \\\n",
       "Protein IDs                                                                     \n",
       "P0DPI2;A0A0B4J2D5                265300             248290            1878900   \n",
       "A0AVT1                                0                  0             440250   \n",
       "A6NHQ2                           126410                  0                  0   \n",
       "A6NI72;P14598;A8MVU1            1246500            1821600            3189500   \n",
       "P62308;A8MWD9                         0             305850                  0   \n",
       "\n",
       "                      Intensity 1_B_C13  Intensity 1_B_C9  Intensity 1_T_D10  \\\n",
       "Protein IDs                                                                    \n",
       "P0DPI2;A0A0B4J2D5                289210                 0                  0   \n",
       "A0AVT1                           139370                 0                  0   \n",
       "A6NHQ2                            89903                 0             263160   \n",
       "A6NI72;P14598;A8MVU1            2912100           1045700                  0   \n",
       "P62308;A8MWD9                         0                 0                  0   \n",
       "\n",
       "                      Intensity 1_T_D11  Intensity 1_T_D12  Intensity 1_T_D13  \\\n",
       "Protein IDs                                                                     \n",
       "P0DPI2;A0A0B4J2D5                     0                  0                  0   \n",
       "A0AVT1                           303590                  0                  0   \n",
       "A6NHQ2                                0                  0             110120   \n",
       "A6NI72;P14598;A8MVU1                  0                  0                  0   \n",
       "P62308;A8MWD9                         0                  0                  0   \n",
       "\n",
       "                      Intensity 1_T_D9  \n",
       "Protein IDs                             \n",
       "P0DPI2;A0A0B4J2D5               654710  \n",
       "A0AVT1                               0  \n",
       "A6NHQ2                               0  \n",
       "A6NI72;P14598;A8MVU1                 0  \n",
       "P62308;A8MWD9                   372880  "
      ]
     },
     "execution_count": 1,
     "metadata": {},
     "output_type": "execute_result"
    }
   ],
   "source": [
    "import load_data\n",
    "data_raw = load_data.load_max_quant()\n",
    "data_raw.head()"
   ]
  },
  {
   "cell_type": "markdown",
   "metadata": {},
   "source": [
    "Now we normalize across runs. Note that following median normalization, we reverse the log2, leaving the data aligned between runs but allowing the most typical coefficient variation calculation."
   ]
  },
  {
   "cell_type": "code",
   "execution_count": 2,
   "metadata": {},
   "outputs": [],
   "source": [
    "from numpy import nan\n",
    "from numpy import log2\n",
    "from statistics import median\n",
    "\n",
    "data_log2 = log2(data_raw.replace(0,nan))\n",
    "#global_median = median(data_log2.apply(lambda series: median(series.dropna())))\n",
    "data_log2_normalized = data_log2.apply(lambda series: series-median(series.dropna()))#+global_median)\n",
    "data = data_log2_normalized.apply(lambda series: 2**series)"
   ]
  },
  {
   "cell_type": "markdown",
   "metadata": {},
   "source": [
    "Next, we select the proteins that are measured in at least three samples from each group, allowing the calculations to proceed without imputed zero-handling."
   ]
  },
  {
   "cell_type": "code",
   "execution_count": 3,
   "metadata": {},
   "outputs": [],
   "source": [
    "import data_utils    \n",
    "indecies = data.apply(data_utils.check_three_of_each_type, axis=1)\n",
    "data = data[indecies]\n",
    "#data.head()"
   ]
  },
  {
   "cell_type": "markdown",
   "metadata": {},
   "source": [
    "Finally, we will calculate the coeffients of variation for each protein within each of the two cell types. "
   ]
  },
  {
   "cell_type": "code",
   "execution_count": 4,
   "metadata": {},
   "outputs": [],
   "source": [
    "from scipy.stats import variation\n",
    "from statistics import mean\n",
    "import pandas as pd\n",
    "from numpy import isnan"
   ]
  },
  {
   "cell_type": "code",
   "execution_count": 15,
   "metadata": {
    "scrolled": true
   },
   "outputs": [
    {
     "name": "stdout",
     "output_type": "stream",
     "text": [
      "1_B\n",
      "Mean CV:\t 0.2964541714327276\n",
      "Min CV: \t 0.0\n",
      "Max CV: \t 1.2822455238776989\n",
      "nan:    \t 0\n",
      "Zero:    \t 277\n",
      "Under 10%:\t 330 \t0.27\n",
      "Under 20%:\t 482 \t0.39\n",
      "1230\n",
      "\n",
      "1_T\n",
      "Mean CV:\t 0.25424859379533077\n",
      "Min CV: \t 0.0\n",
      "Max CV: \t 1.7342506885851763\n",
      "nan:    \t 0\n",
      "Zero:    \t 284\n",
      "Under 10%:\t 348 \t0.28\n",
      "Under 20%:\t 537 \t0.44\n",
      "1230\n",
      "\n"
     ]
    }
   ],
   "source": [
    "cell_types = [\"1_B\", \"1_T\"]\n",
    "CVs = {}\n",
    "for population in cell_types:\n",
    "    cells_in_population = list(s for s in data.columns.values.tolist() if population in s)\n",
    "    data_by_type = data[cells_in_population]\n",
    "    #now we have a dataframe with just one subpopulation\n",
    "    #Call variation function\n",
    "    var = data_by_type.apply(variation, axis=1, nan_policy='omit')\n",
    "    CVs[population] = var\n",
    "    \n",
    "    #Here we report an overview\n",
    "    print (population)\n",
    "    print ('Mean CV:\\t',mean(var))\n",
    "    print ('Min CV: \\t',min(var))\n",
    "    print ('Max CV: \\t',max(var))\n",
    "    print ('nan:    \\t',len([i for i in var if isnan(i)]))\n",
    "    print ('Zero:    \\t',len([i for i in var if i==0]))\n",
    "    var_under_20 = len([i for i in var if i < .2])\n",
    "    var_under_10 = len([i for i in var if i < .1])\n",
    "    count = len(var)#len([i for i in var if i!=0])\n",
    "    print ('Under 10%:\\t',var_under_10,'\\t{0:.2f}'.format(var_under_10/count))\n",
    "    print ('Under 20%:\\t',var_under_20,'\\t{0:.2f}'.format(var_under_20/count))\n",
    "    print (count)\n",
    "    print ()\n",
    "    \n",
    "\n",
    "CVs = pd.DataFrame.from_dict(CVs)    "
   ]
  },
  {
   "cell_type": "markdown",
   "metadata": {},
   "source": [
    "Next, we will visualize the data, which shows that the majority of proteins have small coefficients of variation."
   ]
  },
  {
   "cell_type": "code",
   "execution_count": 8,
   "metadata": {},
   "outputs": [
    {
     "data": {
      "image/png": "[encoded data removed]",
      "text/plain": [
       "<Figure size 432x288 with 1 Axes>"
      ]
     },
     "metadata": {},
     "output_type": "display_data"
    }
   ],
   "source": [
    "import matplotlib.pyplot as plt\n",
    "import seaborn as sns\n",
    "sns.set(font_scale=1.5)\n",
    "figure = sns.boxplot(data=CVs, width=.5)\n",
    "figure.set_ylabel(\"Coefficient of Variation\")\n",
    "\n",
    "plt.show()"
   ]
  },
  {
   "cell_type": "markdown",
   "metadata": {},
   "source": [
    "Here we summarize the CVs overall. Note that the CVs were calculated within types and so still represent technical variability, not variation between cell types."
   ]
  },
  {
   "cell_type": "code",
   "execution_count": 24,
   "metadata": {},
   "outputs": [
    {
     "name": "stdout",
     "output_type": "stream",
     "text": [
      "Mean CV:\t 0.2753513826140292\n",
      "Min CV: \t 0.0\n",
      "Max CV: \t 1.7342506885851763\n",
      "nan:    \t 0\n",
      "Zero:    \t 561\n",
      "Under 10%:\t 678 \t0.28\n",
      "Under 20%:\t 1019 \t0.41\n"
     ]
    }
   ],
   "source": [
    "var = CVs.values.flatten()\n",
    "\n",
    "print ('Mean CV:\\t',mean(var))\n",
    "print ('Min CV: \\t',min(var))\n",
    "print ('Max CV: \\t',max(var))\n",
    "print ('nan:    \\t',len([i for i in var if isnan(i)]))\n",
    "print ('Zero:    \\t',len([i for i in var if i==0]))\n",
    "    \n",
    "var_under_20 = len([i for i in var if i < .2])\n",
    "var_under_10 = len([i for i in var if i < .1])\n",
    "count = len(var)#len([i for i in var if i!=0])\n",
    "print ('Under 10%:\\t',var_under_10,'\\t{0:.2f}'.format(var_under_10/count))\n",
    "print ('Under 20%:\\t',var_under_20,'\\t{0:.2f}'.format(var_under_20/count))"
   ]
  },
  {
   "cell_type": "markdown",
   "metadata": {},
   "source": [
    "This shows accuracy in repeatedly characterizing each cell type."
   ]
  }
 ],
 "metadata": {
  "kernelspec": {
   "display_name": "Python 3",
   "language": "python",
   "name": "python3"
  },
  "language_info": {
   "codemirror_mode": {
    "name": "ipython",
    "version": 3
   },
   "file_extension": ".py",
   "mimetype": "text/x-python",
   "name": "python",
   "nbconvert_exporter": "python",
   "pygments_lexer": "ipython3",
   "version": "3.7.7"
  }
 },
 "nbformat": 4,
 "nbformat_minor": 2
}
