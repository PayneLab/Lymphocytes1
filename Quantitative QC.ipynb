{
 "cells": [
  {
   "cell_type": "markdown",
   "metadata": {},
   "source": [
    "## Quantitative QC by CV calculation\n",
    "The data used in this notebook is lymphocyte data for one patient's B cells and T cells. We use this data to show the proteome variation between the cell types. Here, we calculate CVs to show the quality of the data.\n"
   ]
  },
  {
   "cell_type": "markdown",
   "metadata": {},
   "source": [
    "First, we import our loader module. This brings the functions defined there (in our repository at ~/load_data.py) into scope so we can use them in this script. Then we can load our data and store it as <code>data</code>.\n",
    "\n",
    "Calling <code>head</code> shows the first several lines of the dataframe, which provides an idea of the type of data present and the structure of the dataframe."
   ]
  },
  {
   "cell_type": "code",
   "execution_count": 1,
   "metadata": {},
   "outputs": [],
   "source": [
    "import load_data\n",
    "data_raw = load_data.load_max_quant()\n",
    "#data_raw.head()"
   ]
  },
  {
   "cell_type": "markdown",
   "metadata": {},
   "source": [
    "Now we normalize across runs."
   ]
  },
  {
   "cell_type": "code",
   "execution_count": 2,
   "metadata": {},
   "outputs": [],
   "source": [
    "from numpy import nan\n",
    "from numpy import log2\n",
    "from statistics import median\n",
    "\n",
    "data_log2 = log2(data_raw.replace(0,nan))\n",
    "#global_median = median(data_log2.apply(lambda series: median(series.dropna())))\n",
    "data_log2_normalized = data_log2.apply(lambda series: series-median(series.dropna()))#+global_median)\n",
    "data = data_log2_normalized.apply(lambda series: 2**series)"
   ]
  },
  {
   "cell_type": "markdown",
   "metadata": {},
   "source": [
    "Next, we select the proteins that are measured in at least three samples from each group, allowing the calculations to proceed without imputed zero-handling."
   ]
  },
  {
   "cell_type": "code",
   "execution_count": 3,
   "metadata": {},
   "outputs": [],
   "source": [
    "def check_present(row):\n",
    "    bool_row = []\n",
    "    for i in row:\n",
    "        bool_row.append(bool(i))\n",
    "    return sum(bool_row)\n",
    "\n",
    "def check_three_of_each_type(row, cell_types=[\"B_cells\", \"T_cells\"]):\n",
    "    present_in_types = []\n",
    "    for i in cell_types:\n",
    "        cells_of_type = list(s for s in row.index if i in s)\n",
    "        data_by_type = row.loc[cells_of_type]\n",
    "        in_type = check_present(data_by_type)\n",
    "        three_in_type = bool(in_type > 2)\n",
    "        present_in_types.append(three_in_type)\n",
    "    if sum(present_in_types) == len(cell_types):\n",
    "        return True\n",
    "    else: return False\n",
    "    \n",
    "indecies = data.apply(check_three_of_each_type, axis=1)\n",
    "data = data[indecies]\n",
    "#data.head()"
   ]
  },
  {
   "cell_type": "markdown",
   "metadata": {},
   "source": [
    "Finally, we will calculate the coeffients of variation for each protein within each of the two cell types. "
   ]
  },
  {
   "cell_type": "code",
   "execution_count": 4,
   "metadata": {},
   "outputs": [],
   "source": [
    "from scipy.stats import variation\n",
    "from statistics import mean\n",
    "import pandas as pd\n",
    "from numpy import isnan"
   ]
  },
  {
   "cell_type": "code",
   "execution_count": 5,
   "metadata": {
    "scrolled": true
   },
   "outputs": [
    {
     "name": "stdout",
     "output_type": "stream",
     "text": [
      "B_cells\n",
      "Mean CV:\t 0.299481030368254\n",
      "Min CV: \t 0.0\n",
      "Max CV: \t 1.291757378358726\n",
      "nan:    \t 0\n",
      "Zero:    \t 261\n",
      "Under 10%:\t 312 \t0.26\n",
      "Under 20%:\t 474 \t0.40\n",
      "1194\n",
      "\n",
      "T_cells\n",
      "Mean CV:\t 0.2557833340070047\n",
      "Min CV: \t 0.0\n",
      "Max CV: \t 1.7733866296954053\n",
      "nan:    \t 0\n",
      "Zero:    \t 275\n",
      "Under 10%:\t 337 \t0.28\n",
      "Under 20%:\t 519 \t0.43\n",
      "1194\n",
      "\n"
     ]
    }
   ],
   "source": [
    "cell_types = [\"B_cells\", \"T_cells\"]\n",
    "CVs = {}\n",
    "for population in cell_types:\n",
    "    cells_in_population = list(s for s in data.columns.values.tolist() if population in s)\n",
    "    data_by_type = data[cells_in_population]\n",
    "    #now we have a dataframe with just one subpopulation\n",
    "    #Call variation function\n",
    "    var = data_by_type.apply(variation, axis=1, nan_policy='omit')\n",
    "    CVs[population] = var\n",
    "    \n",
    "    #Here we report an overview\n",
    "    print (population)\n",
    "    print ('Mean CV:\\t',mean(var))\n",
    "    print ('Min CV: \\t',min(var))\n",
    "    print ('Max CV: \\t',max(var))\n",
    "    print ('nan:    \\t',len([i for i in var if isnan(i)]))\n",
    "    print ('Zero:    \\t',len([i for i in var if i==0]))\n",
    "    var_under_20 = len([i for i in var if i < .2])\n",
    "    var_under_10 = len([i for i in var if i < .1])\n",
    "    print ('Under 10%:\\t',var_under_10,'\\t{0:.2f}'.format(var_under_10/len(var)))\n",
    "    print ('Under 20%:\\t',var_under_20,'\\t{0:.2f}'.format(var_under_20/len(var)))\n",
    "    print (len(var))\n",
    "    print ()\n",
    "    \n",
    "\n",
    "CVs = pd.DataFrame.from_dict(CVs)    "
   ]
  },
  {
   "cell_type": "markdown",
   "metadata": {},
   "source": [
    "This shows...\n"
   ]
  },
  {
   "cell_type": "code",
   "execution_count": 6,
   "metadata": {},
   "outputs": [
    {
     "data": {
      "image/png": "[encoded data removed]",
      "text/plain": [
       "<Figure size 432x288 with 1 Axes>"
      ]
     },
     "metadata": {},
     "output_type": "display_data"
    }
   ],
   "source": [
    "import matplotlib.pyplot as plt\n",
    "import seaborn as sns\n",
    "sns.set(font_scale=1.5)\n",
    "figure = sns.boxplot(data=CVs, width=.5)\n",
    "figure.set_ylabel(\"Coefficient of Variation\")\n",
    "\n",
    "plt.show()"
   ]
  },
  {
   "cell_type": "markdown",
   "metadata": {},
   "source": []
  },
  {
   "cell_type": "code",
   "execution_count": null,
   "metadata": {},
   "outputs": [],
   "source": []
  }
 ],
 "metadata": {
  "kernelspec": {
   "display_name": "Python 3",
   "language": "python",
   "name": "python3"
  },
  "language_info": {
   "codemirror_mode": {
    "name": "ipython",
    "version": 3
   },
   "file_extension": ".py",
   "mimetype": "text/x-python",
   "name": "python",
   "nbconvert_exporter": "python",
   "pygments_lexer": "ipython3",
   "version": "3.7.7"
  }
 },
 "nbformat": 4,
 "nbformat_minor": 2
}
