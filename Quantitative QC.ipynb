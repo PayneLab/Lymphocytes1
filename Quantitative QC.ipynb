{
 "cells": [
  {
   "cell_type": "markdown",
   "metadata": {},
   "source": [
    "## Quantitative QC by CV calculation\n",
    "The data used in this notebook is lymphocyte data for one patient's B cells and T cells. We use this data to show the proteome variation between the cell types. Here, we calculate CVs to show the quality of the data.\n",
    "\n",
    "After calculating CVs, we calculate Spearman correlation among replicates.\n"
   ]
  },
  {
   "cell_type": "markdown",
   "metadata": {},
   "source": [
    "First, we import our loader module. This brings the functions defined there (in our repository at ~/load_data.py) into scope so we can use them in this script. Then we can load our data and store it as <code>data</code>.\n",
    "\n",
    "Calling <code>head</code> shows the first several lines of the dataframe, which provides an idea of the type of data present and the structure of the dataframe."
   ]
  },
  {
   "cell_type": "code",
   "execution_count": 1,
   "metadata": {},
   "outputs": [
    {
     "data": {
      "text/html": [
       "<div>\n",
       "<style scoped>\n",
       "    .dataframe tbody tr th:only-of-type {\n",
       "        vertical-align: middle;\n",
       "    }\n",
       "\n",
       "    .dataframe tbody tr th {\n",
       "        vertical-align: top;\n",
       "    }\n",
       "\n",
       "    .dataframe thead th {\n",
       "        text-align: right;\n",
       "    }\n",
       "</style>\n",
       "<table border=\"1\" class=\"dataframe\">\n",
       "  <thead>\n",
       "    <tr style=\"text-align: right;\">\n",
       "      <th></th>\n",
       "      <th>Subject1_B_cells_June_C_10 Total Intensity</th>\n",
       "      <th>Subject1_B_cells_June_C_11 Total Intensity</th>\n",
       "      <th>Subject1_B_cells_June_C_12 Total Intensity</th>\n",
       "      <th>Subject1_B_cells_June_C_13 Total Intensity</th>\n",
       "      <th>Subject1_B_cells_June_C_9 Total Intensity</th>\n",
       "      <th>Subject1_T_cells_June_D_10 Total Intensity</th>\n",
       "      <th>Subject1_T_cells_June_D_11 Total Intensity</th>\n",
       "      <th>Subject1_T_cells_June_D_12 Total Intensity</th>\n",
       "      <th>Subject1_T_cells_June_D_13 Total Intensity</th>\n",
       "      <th>Subject1_T_cells_June_D_9 Total Intensity</th>\n",
       "    </tr>\n",
       "    <tr>\n",
       "      <th>Protein ID</th>\n",
       "      <th></th>\n",
       "      <th></th>\n",
       "      <th></th>\n",
       "      <th></th>\n",
       "      <th></th>\n",
       "      <th></th>\n",
       "      <th></th>\n",
       "      <th></th>\n",
       "      <th></th>\n",
       "      <th></th>\n",
       "    </tr>\n",
       "  </thead>\n",
       "  <tbody>\n",
       "    <tr>\n",
       "      <th>A0A0B4J2D5</th>\n",
       "      <td>1206607.50</td>\n",
       "      <td>1882145.4</td>\n",
       "      <td>2417132.20</td>\n",
       "      <td>3093545.2</td>\n",
       "      <td>1701011.9</td>\n",
       "      <td>301610.60</td>\n",
       "      <td>0.00</td>\n",
       "      <td>249601.9</td>\n",
       "      <td>0.0</td>\n",
       "      <td>277209.10</td>\n",
       "    </tr>\n",
       "    <tr>\n",
       "      <th>A0AVT1</th>\n",
       "      <td>584806.90</td>\n",
       "      <td>872883.0</td>\n",
       "      <td>1135346.80</td>\n",
       "      <td>543014.9</td>\n",
       "      <td>2131811.8</td>\n",
       "      <td>0.00</td>\n",
       "      <td>805666.10</td>\n",
       "      <td>0.0</td>\n",
       "      <td>0.0</td>\n",
       "      <td>425896.38</td>\n",
       "    </tr>\n",
       "    <tr>\n",
       "      <th>A0FGR8</th>\n",
       "      <td>0.00</td>\n",
       "      <td>0.0</td>\n",
       "      <td>0.00</td>\n",
       "      <td>0.0</td>\n",
       "      <td>0.0</td>\n",
       "      <td>0.00</td>\n",
       "      <td>0.00</td>\n",
       "      <td>0.0</td>\n",
       "      <td>0.0</td>\n",
       "      <td>0.00</td>\n",
       "    </tr>\n",
       "    <tr>\n",
       "      <th>A6NHR9</th>\n",
       "      <td>655176.10</td>\n",
       "      <td>0.0</td>\n",
       "      <td>3419854.50</td>\n",
       "      <td>0.0</td>\n",
       "      <td>0.0</td>\n",
       "      <td>105097.76</td>\n",
       "      <td>0.00</td>\n",
       "      <td>0.0</td>\n",
       "      <td>0.0</td>\n",
       "      <td>0.00</td>\n",
       "    </tr>\n",
       "    <tr>\n",
       "      <th>A8MWD9</th>\n",
       "      <td>696141.44</td>\n",
       "      <td>1213763.9</td>\n",
       "      <td>850701.44</td>\n",
       "      <td>1364050.2</td>\n",
       "      <td>633904.0</td>\n",
       "      <td>0.00</td>\n",
       "      <td>464729.78</td>\n",
       "      <td>0.0</td>\n",
       "      <td>0.0</td>\n",
       "      <td>446894.66</td>\n",
       "    </tr>\n",
       "  </tbody>\n",
       "</table>\n",
       "</div>"
      ],
      "text/plain": [
       "            Subject1_B_cells_June_C_10 Total Intensity  \\\n",
       "Protein ID                                               \n",
       "A0A0B4J2D5                                  1206607.50   \n",
       "A0AVT1                                       584806.90   \n",
       "A0FGR8                                            0.00   \n",
       "A6NHR9                                       655176.10   \n",
       "A8MWD9                                       696141.44   \n",
       "\n",
       "            Subject1_B_cells_June_C_11 Total Intensity  \\\n",
       "Protein ID                                               \n",
       "A0A0B4J2D5                                   1882145.4   \n",
       "A0AVT1                                        872883.0   \n",
       "A0FGR8                                             0.0   \n",
       "A6NHR9                                             0.0   \n",
       "A8MWD9                                       1213763.9   \n",
       "\n",
       "            Subject1_B_cells_June_C_12 Total Intensity  \\\n",
       "Protein ID                                               \n",
       "A0A0B4J2D5                                  2417132.20   \n",
       "A0AVT1                                      1135346.80   \n",
       "A0FGR8                                            0.00   \n",
       "A6NHR9                                      3419854.50   \n",
       "A8MWD9                                       850701.44   \n",
       "\n",
       "            Subject1_B_cells_June_C_13 Total Intensity  \\\n",
       "Protein ID                                               \n",
       "A0A0B4J2D5                                   3093545.2   \n",
       "A0AVT1                                        543014.9   \n",
       "A0FGR8                                             0.0   \n",
       "A6NHR9                                             0.0   \n",
       "A8MWD9                                       1364050.2   \n",
       "\n",
       "            Subject1_B_cells_June_C_9 Total Intensity  \\\n",
       "Protein ID                                              \n",
       "A0A0B4J2D5                                  1701011.9   \n",
       "A0AVT1                                      2131811.8   \n",
       "A0FGR8                                            0.0   \n",
       "A6NHR9                                            0.0   \n",
       "A8MWD9                                       633904.0   \n",
       "\n",
       "            Subject1_T_cells_June_D_10 Total Intensity  \\\n",
       "Protein ID                                               \n",
       "A0A0B4J2D5                                   301610.60   \n",
       "A0AVT1                                            0.00   \n",
       "A0FGR8                                            0.00   \n",
       "A6NHR9                                       105097.76   \n",
       "A8MWD9                                            0.00   \n",
       "\n",
       "            Subject1_T_cells_June_D_11 Total Intensity  \\\n",
       "Protein ID                                               \n",
       "A0A0B4J2D5                                        0.00   \n",
       "A0AVT1                                       805666.10   \n",
       "A0FGR8                                            0.00   \n",
       "A6NHR9                                            0.00   \n",
       "A8MWD9                                       464729.78   \n",
       "\n",
       "            Subject1_T_cells_June_D_12 Total Intensity  \\\n",
       "Protein ID                                               \n",
       "A0A0B4J2D5                                    249601.9   \n",
       "A0AVT1                                             0.0   \n",
       "A0FGR8                                             0.0   \n",
       "A6NHR9                                             0.0   \n",
       "A8MWD9                                             0.0   \n",
       "\n",
       "            Subject1_T_cells_June_D_13 Total Intensity  \\\n",
       "Protein ID                                               \n",
       "A0A0B4J2D5                                         0.0   \n",
       "A0AVT1                                             0.0   \n",
       "A0FGR8                                             0.0   \n",
       "A6NHR9                                             0.0   \n",
       "A8MWD9                                             0.0   \n",
       "\n",
       "            Subject1_T_cells_June_D_9 Total Intensity  \n",
       "Protein ID                                             \n",
       "A0A0B4J2D5                                  277209.10  \n",
       "A0AVT1                                      425896.38  \n",
       "A0FGR8                                           0.00  \n",
       "A6NHR9                                           0.00  \n",
       "A8MWD9                                      446894.66  "
      ]
     },
     "execution_count": 1,
     "metadata": {},
     "output_type": "execute_result"
    }
   ],
   "source": [
    "import load_data\n",
    "data_raw = load_data.load_FragPipe()\n",
    "data_raw.head()"
   ]
  },
  {
   "cell_type": "markdown",
   "metadata": {},
   "source": [
    "Now we normalize across runs. Note that following median normalization, we reverse the log2, leaving the data aligned between runs but allowing the most typical coefficient variation calculation."
   ]
  },
  {
   "cell_type": "code",
   "execution_count": 2,
   "metadata": {},
   "outputs": [],
   "source": [
    "from numpy import nan\n",
    "from numpy import log2\n",
    "from statistics import median\n",
    "\n",
    "data_log2 = log2(data_raw.replace(0,nan))\n",
    "#global_median = median(data_log2.apply(lambda series: median(series.dropna())))\n",
    "data_log2_normalized = data_log2.apply(lambda series: series-median(series.dropna()))#+global_median)\n",
    "data = data_log2_normalized.apply(lambda series: 2**series)"
   ]
  },
  {
   "cell_type": "markdown",
   "metadata": {},
   "source": [
    "Next, we select the proteins that are measured in at least three samples from each group, allowing the calculations to proceed without imputed zero-handling."
   ]
  },
  {
   "cell_type": "code",
   "execution_count": 3,
   "metadata": {},
   "outputs": [],
   "source": [
    "import data_utils    \n",
    "indecies = data.apply(data_utils.check_three_of_each_type, axis=1)\n",
    "data = data[indecies]\n",
    "#data.head()"
   ]
  },
  {
   "cell_type": "markdown",
   "metadata": {},
   "source": [
    "Finally, we will calculate the coeffients of variation for each protein within each of the two cell types. "
   ]
  },
  {
   "cell_type": "code",
   "execution_count": 4,
   "metadata": {},
   "outputs": [],
   "source": [
    "from scipy.stats import variation\n",
    "from statistics import mean\n",
    "import pandas as pd\n",
    "from numpy import isnan"
   ]
  },
  {
   "cell_type": "code",
   "execution_count": 5,
   "metadata": {
    "scrolled": true
   },
   "outputs": [
    {
     "name": "stdout",
     "output_type": "stream",
     "text": [
      "1_B\n",
      "Mean CV:\t 0.3068827334548042\n",
      "Min CV: \t 0.03160106588990182\n",
      "Max CV: \t 1.2833325650885115\n",
      "nan:    \t 0\n",
      "Zero:    \t 0\n",
      "Under 10%:\t 44 \t0.05\n",
      "Under 20%:\t 363 \t0.37\n",
      "970\n",
      "\n",
      "1_T\n",
      "Mean CV:\t 0.24351053941538708\n",
      "Min CV: \t 0.01488785893051874\n",
      "Max CV: \t 1.8339260807341373\n",
      "nan:    \t 0\n",
      "Zero:    \t 0\n",
      "Under 10%:\t 184 \t0.19\n",
      "Under 20%:\t 535 \t0.55\n",
      "970\n",
      "\n"
     ]
    }
   ],
   "source": [
    "cell_types = [\"1_B\", \"1_T\"]\n",
    "CVs = {}\n",
    "for population in cell_types:\n",
    "    cells_in_population = list(s for s in data.columns.values.tolist() if population in s)\n",
    "    data_by_type = data[cells_in_population]\n",
    "    #now we have a dataframe with just one subpopulation\n",
    "    #Call variation function\n",
    "    var = data_by_type.apply(variation, axis=1, nan_policy='omit')\n",
    "    CVs[population] = var\n",
    "    \n",
    "    #Here we report an overview\n",
    "    print (population)\n",
    "    print ('Mean CV:\\t',mean(var))\n",
    "    print ('Min CV: \\t',min(var))\n",
    "    print ('Max CV: \\t',max(var))\n",
    "    print ('nan:    \\t',len([i for i in var if isnan(i)]))\n",
    "    print ('Zero:    \\t',len([i for i in var if i==0]))\n",
    "    var_under_20 = len([i for i in var if i < .2])\n",
    "    var_under_10 = len([i for i in var if i < .1])\n",
    "    count = len(var)#len([i for i in var if i!=0])\n",
    "    print ('Under 10%:\\t',var_under_10,'\\t{0:.2f}'.format(var_under_10/count))\n",
    "    print ('Under 20%:\\t',var_under_20,'\\t{0:.2f}'.format(var_under_20/count))\n",
    "    print (count)\n",
    "    print ()\n",
    "    \n",
    "\n",
    "CVs = pd.DataFrame.from_dict(CVs)    "
   ]
  },
  {
   "cell_type": "markdown",
   "metadata": {},
   "source": [
    "Next, we will visualize the data, which shows that the majority of proteins have small coefficients of variation."
   ]
  },
  {
   "cell_type": "code",
   "execution_count": 6,
   "metadata": {},
   "outputs": [
    {
     "data": {
      "image/png": "[encoded data removed]",
      "text/plain": [
       "<Figure size 432x288 with 1 Axes>"
      ]
     },
     "metadata": {},
     "output_type": "display_data"
    }
   ],
   "source": [
    "import matplotlib.pyplot as plt\n",
    "import seaborn as sns\n",
    "sns.set(font_scale=1.5)\n",
    "sns.set_style(\"white\")\n",
    "figure = sns.violinplot(data=CVs, width=.5)\n",
    "figure.set_ylabel(\"Coefficient of Variation\")\n",
    "figure.set_xticklabels(['B cells', 'T cells'])\n",
    "#plt.savefig(\"CV_FP.png\", dpi=300)\n",
    "\n",
    "plt.show()"
   ]
  },
  {
   "cell_type": "code",
   "execution_count": 7,
   "metadata": {},
   "outputs": [
    {
     "data": {
      "image/png": "[encoded data removed]",
      "text/plain": [
       "<Figure size 432x288 with 1 Axes>"
      ]
     },
     "metadata": {},
     "output_type": "display_data"
    }
   ],
   "source": [
    "import matplotlib.pyplot as plt\n",
    "import seaborn as sns\n",
    "\n",
    "sns.set(font_scale=1.5)\n",
    "\n",
    "sns.set_style(\"white\")\n",
    "figure = sns.distplot(CVs['1_B'], hist = False, label='B cells')#, width=.5)\n",
    "figure = sns.distplot(CVs['1_T'], hist = False, label='T cells')#, width=.5)\n",
    "figure.set_ylabel(\"Relative Frequency\")\n",
    "figure.set_xlabel(\"Coefficient of Variation\")\n",
    "\n",
    "figure.legend(['B cells', 'T cells'])\n",
    "plt.show()"
   ]
  },
  {
   "cell_type": "markdown",
   "metadata": {},
   "source": [
    "Here we summarize the CVs overall. Note that the CVs were calculated within types and so still represent technical variability, not variation between cell types."
   ]
  },
  {
   "cell_type": "code",
   "execution_count": 8,
   "metadata": {},
   "outputs": [
    {
     "name": "stdout",
     "output_type": "stream",
     "text": [
      "Mean CV:\t 0.2751966364350956\n",
      "Min CV: \t 0.01488785893051874\n",
      "Max CV: \t 1.8339260807341373\n",
      "nan:    \t 0\n",
      "Zero:    \t 0\n",
      "Under 10%:\t 228 \t0.12\n",
      "Under 20%:\t 898 \t0.46\n"
     ]
    }
   ],
   "source": [
    "var = CVs.values.flatten()\n",
    "\n",
    "print ('Mean CV:\\t',mean(var))\n",
    "print ('Min CV: \\t',min(var))\n",
    "print ('Max CV: \\t',max(var))\n",
    "print ('nan:    \\t',len([i for i in var if isnan(i)]))\n",
    "print ('Zero:    \\t',len([i for i in var if i==0]))\n",
    "    \n",
    "var_under_20 = len([i for i in var if i < .2])\n",
    "var_under_10 = len([i for i in var if i < .1])\n",
    "count = len(var)#len([i for i in var if i!=0])\n",
    "print ('Under 10%:\\t',var_under_10,'\\t{0:.2f}'.format(var_under_10/count))\n",
    "print ('Under 20%:\\t',var_under_20,'\\t{0:.2f}'.format(var_under_20/count))"
   ]
  },
  {
   "cell_type": "markdown",
   "metadata": {},
   "source": [
    "This shows accuracy in repeatedly characterizing each cell type."
   ]
  },
  {
   "cell_type": "markdown",
   "metadata": {},
   "source": [
    "### Correlation coefficient\n",
    "Next, we show reproducibility of the replicates by Spearman correlation coefficient."
   ]
  },
  {
   "cell_type": "code",
   "execution_count": 9,
   "metadata": {},
   "outputs": [
    {
     "data": {
      "text/plain": [
       "<matplotlib.axes._subplots.AxesSubplot at 0x21ef5491a88>"
      ]
     },
     "execution_count": 9,
     "metadata": {},
     "output_type": "execute_result"
    },
    {
     "data": {
      "image/png": "[encoded data removed]",
      "text/plain": [
       "<Figure size 432x288 with 2 Axes>"
      ]
     },
     "metadata": {},
     "output_type": "display_data"
    }
   ],
   "source": [
    "correlations = data.corr(method=\"spearman\")\n",
    "\n",
    "labels=['B cells - C10','B cells - C11',\n",
    "                    'B cells - C12','B cells - C13',\n",
    "                    'B cells - C9  ','T cells - D10',\n",
    "                    'T cells - D11','T cells - D12',\n",
    "                    'T cells - D13','T cells - D9  ']\n",
    "\n",
    "correlations.index=labels\n",
    "correlations.columns=labels\n",
    "\n",
    "import numpy as np\n",
    "mask = np.zeros(correlations.shape, dtype=bool)\n",
    "mask[np.triu_indices(len(mask))] = True\n",
    "\n",
    "sns.heatmap(correlations)#, cmap = 'coolwarm', mask = mask)\n",
    "\n",
    "\n",
    "#plt.savefig(\"data/FP_figures/correlations_heatmap_FP.png\", dpi=300,\n",
    "#            bbox_inches='tight')"
   ]
  },
  {
   "cell_type": "code",
   "execution_count": 10,
   "metadata": {},
   "outputs": [
    {
     "data": {
      "text/html": [
       "<div>\n",
       "<style scoped>\n",
       "    .dataframe tbody tr th:only-of-type {\n",
       "        vertical-align: middle;\n",
       "    }\n",
       "\n",
       "    .dataframe tbody tr th {\n",
       "        vertical-align: top;\n",
       "    }\n",
       "\n",
       "    .dataframe thead th {\n",
       "        text-align: right;\n",
       "    }\n",
       "</style>\n",
       "<table border=\"1\" class=\"dataframe\">\n",
       "  <thead>\n",
       "    <tr style=\"text-align: right;\">\n",
       "      <th></th>\n",
       "      <th>B cells - C10</th>\n",
       "      <th>B cells - C11</th>\n",
       "      <th>B cells - C12</th>\n",
       "      <th>B cells - C13</th>\n",
       "      <th>B cells - C9</th>\n",
       "      <th>T cells - D10</th>\n",
       "      <th>T cells - D11</th>\n",
       "      <th>T cells - D12</th>\n",
       "      <th>T cells - D13</th>\n",
       "      <th>T cells - D9</th>\n",
       "    </tr>\n",
       "  </thead>\n",
       "  <tbody>\n",
       "    <tr>\n",
       "      <th>B cells - C10</th>\n",
       "      <td>NaN</td>\n",
       "      <td>0.930392</td>\n",
       "      <td>0.910222</td>\n",
       "      <td>0.915851</td>\n",
       "      <td>0.911183</td>\n",
       "      <td>0.873152</td>\n",
       "      <td>0.893052</td>\n",
       "      <td>0.912194</td>\n",
       "      <td>0.879964</td>\n",
       "      <td>0.909776</td>\n",
       "    </tr>\n",
       "    <tr>\n",
       "      <th>B cells - C11</th>\n",
       "      <td>0.930392</td>\n",
       "      <td>NaN</td>\n",
       "      <td>0.918525</td>\n",
       "      <td>0.940529</td>\n",
       "      <td>0.919039</td>\n",
       "      <td>0.867447</td>\n",
       "      <td>0.864239</td>\n",
       "      <td>0.898044</td>\n",
       "      <td>0.880450</td>\n",
       "      <td>0.892210</td>\n",
       "    </tr>\n",
       "    <tr>\n",
       "      <th>B cells - C12</th>\n",
       "      <td>0.910222</td>\n",
       "      <td>0.918525</td>\n",
       "      <td>NaN</td>\n",
       "      <td>0.918891</td>\n",
       "      <td>0.906595</td>\n",
       "      <td>0.845539</td>\n",
       "      <td>0.866461</td>\n",
       "      <td>0.886506</td>\n",
       "      <td>0.858108</td>\n",
       "      <td>0.874863</td>\n",
       "    </tr>\n",
       "    <tr>\n",
       "      <th>B cells - C13</th>\n",
       "      <td>0.915851</td>\n",
       "      <td>0.940529</td>\n",
       "      <td>0.918891</td>\n",
       "      <td>NaN</td>\n",
       "      <td>0.913553</td>\n",
       "      <td>0.832875</td>\n",
       "      <td>0.860173</td>\n",
       "      <td>0.892704</td>\n",
       "      <td>0.871239</td>\n",
       "      <td>0.886033</td>\n",
       "    </tr>\n",
       "    <tr>\n",
       "      <th>B cells - C9</th>\n",
       "      <td>0.911183</td>\n",
       "      <td>0.919039</td>\n",
       "      <td>0.906595</td>\n",
       "      <td>0.913553</td>\n",
       "      <td>NaN</td>\n",
       "      <td>0.851526</td>\n",
       "      <td>0.861386</td>\n",
       "      <td>0.888364</td>\n",
       "      <td>0.856660</td>\n",
       "      <td>0.887773</td>\n",
       "    </tr>\n",
       "    <tr>\n",
       "      <th>T cells - D10</th>\n",
       "      <td>0.873152</td>\n",
       "      <td>0.867447</td>\n",
       "      <td>0.845539</td>\n",
       "      <td>0.832875</td>\n",
       "      <td>0.851526</td>\n",
       "      <td>NaN</td>\n",
       "      <td>0.903337</td>\n",
       "      <td>0.922863</td>\n",
       "      <td>0.909406</td>\n",
       "      <td>0.918837</td>\n",
       "    </tr>\n",
       "    <tr>\n",
       "      <th>T cells - D11</th>\n",
       "      <td>0.893052</td>\n",
       "      <td>0.864239</td>\n",
       "      <td>0.866461</td>\n",
       "      <td>0.860173</td>\n",
       "      <td>0.861386</td>\n",
       "      <td>0.903337</td>\n",
       "      <td>NaN</td>\n",
       "      <td>0.933883</td>\n",
       "      <td>0.906328</td>\n",
       "      <td>0.930204</td>\n",
       "    </tr>\n",
       "    <tr>\n",
       "      <th>T cells - D12</th>\n",
       "      <td>0.912194</td>\n",
       "      <td>0.898044</td>\n",
       "      <td>0.886506</td>\n",
       "      <td>0.892704</td>\n",
       "      <td>0.888364</td>\n",
       "      <td>0.922863</td>\n",
       "      <td>0.933883</td>\n",
       "      <td>NaN</td>\n",
       "      <td>0.931877</td>\n",
       "      <td>0.945432</td>\n",
       "    </tr>\n",
       "    <tr>\n",
       "      <th>T cells - D13</th>\n",
       "      <td>0.879964</td>\n",
       "      <td>0.880450</td>\n",
       "      <td>0.858108</td>\n",
       "      <td>0.871239</td>\n",
       "      <td>0.856660</td>\n",
       "      <td>0.909406</td>\n",
       "      <td>0.906328</td>\n",
       "      <td>0.931877</td>\n",
       "      <td>NaN</td>\n",
       "      <td>0.916550</td>\n",
       "    </tr>\n",
       "    <tr>\n",
       "      <th>T cells - D9</th>\n",
       "      <td>0.909776</td>\n",
       "      <td>0.892210</td>\n",
       "      <td>0.874863</td>\n",
       "      <td>0.886033</td>\n",
       "      <td>0.887773</td>\n",
       "      <td>0.918837</td>\n",
       "      <td>0.930204</td>\n",
       "      <td>0.945432</td>\n",
       "      <td>0.916550</td>\n",
       "      <td>NaN</td>\n",
       "    </tr>\n",
       "  </tbody>\n",
       "</table>\n",
       "</div>"
      ],
      "text/plain": [
       "                B cells - C10  B cells - C11  B cells - C12  B cells - C13  \\\n",
       "B cells - C10             NaN       0.930392       0.910222       0.915851   \n",
       "B cells - C11        0.930392            NaN       0.918525       0.940529   \n",
       "B cells - C12        0.910222       0.918525            NaN       0.918891   \n",
       "B cells - C13        0.915851       0.940529       0.918891            NaN   \n",
       "B cells - C9         0.911183       0.919039       0.906595       0.913553   \n",
       "T cells - D10        0.873152       0.867447       0.845539       0.832875   \n",
       "T cells - D11        0.893052       0.864239       0.866461       0.860173   \n",
       "T cells - D12        0.912194       0.898044       0.886506       0.892704   \n",
       "T cells - D13        0.879964       0.880450       0.858108       0.871239   \n",
       "T cells - D9         0.909776       0.892210       0.874863       0.886033   \n",
       "\n",
       "                B cells - C9    T cells - D10  T cells - D11  T cells - D12  \\\n",
       "B cells - C10         0.911183       0.873152       0.893052       0.912194   \n",
       "B cells - C11         0.919039       0.867447       0.864239       0.898044   \n",
       "B cells - C12         0.906595       0.845539       0.866461       0.886506   \n",
       "B cells - C13         0.913553       0.832875       0.860173       0.892704   \n",
       "B cells - C9               NaN       0.851526       0.861386       0.888364   \n",
       "T cells - D10         0.851526            NaN       0.903337       0.922863   \n",
       "T cells - D11         0.861386       0.903337            NaN       0.933883   \n",
       "T cells - D12         0.888364       0.922863       0.933883            NaN   \n",
       "T cells - D13         0.856660       0.909406       0.906328       0.931877   \n",
       "T cells - D9          0.887773       0.918837       0.930204       0.945432   \n",
       "\n",
       "                T cells - D13  T cells - D9    \n",
       "B cells - C10        0.879964        0.909776  \n",
       "B cells - C11        0.880450        0.892210  \n",
       "B cells - C12        0.858108        0.874863  \n",
       "B cells - C13        0.871239        0.886033  \n",
       "B cells - C9         0.856660        0.887773  \n",
       "T cells - D10        0.909406        0.918837  \n",
       "T cells - D11        0.906328        0.930204  \n",
       "T cells - D12        0.931877        0.945432  \n",
       "T cells - D13             NaN        0.916550  \n",
       "T cells - D9         0.916550             NaN  "
      ]
     },
     "execution_count": 10,
     "metadata": {},
     "output_type": "execute_result"
    }
   ],
   "source": [
    "#drop self-correlations of 1\n",
    "for sample in correlations.columns:\n",
    "        correlations[sample][sample]=nan\n",
    "        \n",
    "correlations"
   ]
  },
  {
   "cell_type": "markdown",
   "metadata": {},
   "source": [
    "Here we split the dataset by cell type and perform the same correlation test. We then take the average correlation between replicates."
   ]
  },
  {
   "cell_type": "code",
   "execution_count": 11,
   "metadata": {},
   "outputs": [
    {
     "name": "stdout",
     "output_type": "stream",
     "text": [
      "1_B average correlation:\t 0.9184781628021973\n",
      "1_T average correlation:\t 0.9218716964170901\n"
     ]
    }
   ],
   "source": [
    "corr_type = {}\n",
    "corr_summary={}\n",
    "for cell_type in cell_types:\n",
    "    \n",
    "    cells_of_type = list(s for s in data.columns.values.tolist() if cell_type in s)\n",
    "    data_by_type = data[cells_of_type]\n",
    "    corr_of_type = data_by_type.corr(method='spearman')\n",
    "    \n",
    "    #drop self-correlations of 1\n",
    "    for sample in corr_of_type.columns:\n",
    "        corr_of_type[sample][sample]=nan\n",
    "    \n",
    "    corr_type[cell_type] = corr_of_type\n",
    "    \n",
    "    #take the average of the correlations between a sample and  \n",
    "    #    the other samples of the same type\n",
    "    summary = corr_of_type.apply(lambda x: mean(x.dropna()))\n",
    "    corr_summary[cell_type] = mean(summary)\n",
    "    \n",
    "    print (cell_type,\"average correlation:\\t\",mean(summary))"
   ]
  },
  {
   "cell_type": "markdown",
   "metadata": {},
   "source": [
    "With the average correlation between each set of replicates, we now average them to get the overall average. "
   ]
  },
  {
   "cell_type": "code",
   "execution_count": 12,
   "metadata": {},
   "outputs": [
    {
     "data": {
      "text/plain": [
       "0.9201749296096438"
      ]
     },
     "execution_count": 12,
     "metadata": {},
     "output_type": "execute_result"
    }
   ],
   "source": [
    "mean(corr_summary.values())"
   ]
  }
 ],
 "metadata": {
  "kernelspec": {
   "display_name": "Python 3",
   "language": "python",
   "name": "python3"
  },
  "language_info": {
   "codemirror_mode": {
    "name": "ipython",
    "version": 3
   },
   "file_extension": ".py",
   "mimetype": "text/x-python",
   "name": "python",
   "nbconvert_exporter": "python",
   "pygments_lexer": "ipython3",
   "version": "3.7.7"
  }
 },
 "nbformat": 4,
 "nbformat_minor": 2
}
