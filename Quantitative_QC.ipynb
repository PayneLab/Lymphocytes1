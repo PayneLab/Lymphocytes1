{
 "cells": [
  {
   "cell_type": "markdown",
   "metadata": {},
   "source": [
    "## Quantitative QC by CV calculation\n",
    "The data used in this notebook is lymphocyte data for one patient's B cells and T cells. We use this data to show the proteome variation between the cell types. Here, we calculate CVs to show the quality of the data.\n",
    "\n",
    "After calculating CVs, we calculate Spearman correlation among replicates.\n"
   ]
  },
  {
   "cell_type": "markdown",
   "metadata": {},
   "source": [
    "First, we import our loader module. This brings the functions defined there (in our repository at ~/load_data.py) into scope so we can use them in this script. Then we can load our data and store it as <code>data</code>.\n",
    "\n",
    "Calling <code>head</code> shows the first several lines of the dataframe, which provides an idea of the type of data present and the structure of the dataframe."
   ]
  },
  {
   "cell_type": "code",
   "execution_count": 1,
   "metadata": {},
   "outputs": [
    {
     "data": {
      "text/html": [
       "<div>\n",
       "<style scoped>\n",
       "    .dataframe tbody tr th:only-of-type {\n",
       "        vertical-align: middle;\n",
       "    }\n",
       "\n",
       "    .dataframe tbody tr th {\n",
       "        vertical-align: top;\n",
       "    }\n",
       "\n",
       "    .dataframe thead th {\n",
       "        text-align: right;\n",
       "    }\n",
       "</style>\n",
       "<table border=\"1\" class=\"dataframe\">\n",
       "  <thead>\n",
       "    <tr style=\"text-align: right;\">\n",
       "      <th></th>\n",
       "      <th>Intensity B_C10</th>\n",
       "      <th>Intensity B_C11</th>\n",
       "      <th>Intensity B_C12</th>\n",
       "      <th>Intensity B_C13</th>\n",
       "      <th>Intensity B_C9</th>\n",
       "      <th>Intensity T_D10</th>\n",
       "      <th>Intensity T_D11</th>\n",
       "      <th>Intensity T_D12</th>\n",
       "      <th>Intensity T_D13</th>\n",
       "      <th>Intensity T_D9</th>\n",
       "    </tr>\n",
       "    <tr>\n",
       "      <th>Protein IDs</th>\n",
       "      <th></th>\n",
       "      <th></th>\n",
       "      <th></th>\n",
       "      <th></th>\n",
       "      <th></th>\n",
       "      <th></th>\n",
       "      <th></th>\n",
       "      <th></th>\n",
       "      <th></th>\n",
       "      <th></th>\n",
       "    </tr>\n",
       "  </thead>\n",
       "  <tbody>\n",
       "    <tr>\n",
       "      <th>P0DPI2;A0A0B4J2D5</th>\n",
       "      <td>265300</td>\n",
       "      <td>248290</td>\n",
       "      <td>1878900</td>\n",
       "      <td>289210</td>\n",
       "      <td>0</td>\n",
       "      <td>0</td>\n",
       "      <td>0</td>\n",
       "      <td>0</td>\n",
       "      <td>0</td>\n",
       "      <td>654710</td>\n",
       "    </tr>\n",
       "    <tr>\n",
       "      <th>A0AVT1</th>\n",
       "      <td>0</td>\n",
       "      <td>0</td>\n",
       "      <td>440250</td>\n",
       "      <td>0</td>\n",
       "      <td>0</td>\n",
       "      <td>0</td>\n",
       "      <td>0</td>\n",
       "      <td>0</td>\n",
       "      <td>0</td>\n",
       "      <td>0</td>\n",
       "    </tr>\n",
       "    <tr>\n",
       "      <th>A6NGU5;P19440</th>\n",
       "      <td>0</td>\n",
       "      <td>0</td>\n",
       "      <td>0</td>\n",
       "      <td>0</td>\n",
       "      <td>0</td>\n",
       "      <td>0</td>\n",
       "      <td>0</td>\n",
       "      <td>0</td>\n",
       "      <td>2590400</td>\n",
       "      <td>0</td>\n",
       "    </tr>\n",
       "    <tr>\n",
       "      <th>A6NHQ2</th>\n",
       "      <td>126410</td>\n",
       "      <td>0</td>\n",
       "      <td>0</td>\n",
       "      <td>89903</td>\n",
       "      <td>0</td>\n",
       "      <td>263160</td>\n",
       "      <td>0</td>\n",
       "      <td>0</td>\n",
       "      <td>110120</td>\n",
       "      <td>0</td>\n",
       "    </tr>\n",
       "    <tr>\n",
       "      <th>A6NI72;P14598;A8MVU1</th>\n",
       "      <td>1146300</td>\n",
       "      <td>1354400</td>\n",
       "      <td>2254700</td>\n",
       "      <td>2912100</td>\n",
       "      <td>1045700</td>\n",
       "      <td>0</td>\n",
       "      <td>0</td>\n",
       "      <td>0</td>\n",
       "      <td>0</td>\n",
       "      <td>0</td>\n",
       "    </tr>\n",
       "  </tbody>\n",
       "</table>\n",
       "</div>"
      ],
      "text/plain": [
       "                      Intensity B_C10  Intensity B_C11  Intensity B_C12  \\\n",
       "Protein IDs                                                               \n",
       "P0DPI2;A0A0B4J2D5              265300           248290          1878900   \n",
       "A0AVT1                              0                0           440250   \n",
       "A6NGU5;P19440                       0                0                0   \n",
       "A6NHQ2                         126410                0                0   \n",
       "A6NI72;P14598;A8MVU1          1146300          1354400          2254700   \n",
       "\n",
       "                      Intensity B_C13  Intensity B_C9  Intensity T_D10  \\\n",
       "Protein IDs                                                              \n",
       "P0DPI2;A0A0B4J2D5              289210               0                0   \n",
       "A0AVT1                              0               0                0   \n",
       "A6NGU5;P19440                       0               0                0   \n",
       "A6NHQ2                          89903               0           263160   \n",
       "A6NI72;P14598;A8MVU1          2912100         1045700                0   \n",
       "\n",
       "                      Intensity T_D11  Intensity T_D12  Intensity T_D13  \\\n",
       "Protein IDs                                                               \n",
       "P0DPI2;A0A0B4J2D5                   0                0                0   \n",
       "A0AVT1                              0                0                0   \n",
       "A6NGU5;P19440                       0                0          2590400   \n",
       "A6NHQ2                              0                0           110120   \n",
       "A6NI72;P14598;A8MVU1                0                0                0   \n",
       "\n",
       "                      Intensity T_D9  \n",
       "Protein IDs                           \n",
       "P0DPI2;A0A0B4J2D5             654710  \n",
       "A0AVT1                             0  \n",
       "A6NGU5;P19440                      0  \n",
       "A6NHQ2                             0  \n",
       "A6NI72;P14598;A8MVU1               0  "
      ]
     },
     "execution_count": 1,
     "metadata": {},
     "output_type": "execute_result"
    }
   ],
   "source": [
    "import load_data\n",
    "#data_raw = load_data.load_FragPipe()\n",
    "data_raw=load_data.load_max_quant()\n",
    "data_raw.head()"
   ]
  },
  {
   "cell_type": "markdown",
   "metadata": {},
   "source": [
    "Now we normalize across runs. Note that following median normalization, we reverse the log2, leaving the data aligned between runs but allowing the most typical coefficient variation calculation."
   ]
  },
  {
   "cell_type": "code",
   "execution_count": 2,
   "metadata": {},
   "outputs": [],
   "source": [
    "import data_utils\n",
    "data_log2_normalized = data_utils.normalize(data_raw)\n",
    "data_normalized = data_log2_normalized.apply(lambda series: 2**series)"
   ]
  },
  {
   "cell_type": "markdown",
   "metadata": {},
   "source": [
    "Next, we select the proteins that are measured in at least three samples from each group, allowing the calculations to proceed without imputed zero-handling."
   ]
  },
  {
   "cell_type": "code",
   "execution_count": 3,
   "metadata": {},
   "outputs": [
    {
     "data": {
      "text/html": [
       "<div>\n",
       "<style scoped>\n",
       "    .dataframe tbody tr th:only-of-type {\n",
       "        vertical-align: middle;\n",
       "    }\n",
       "\n",
       "    .dataframe tbody tr th {\n",
       "        vertical-align: top;\n",
       "    }\n",
       "\n",
       "    .dataframe thead th {\n",
       "        text-align: right;\n",
       "    }\n",
       "</style>\n",
       "<table border=\"1\" class=\"dataframe\">\n",
       "  <thead>\n",
       "    <tr style=\"text-align: right;\">\n",
       "      <th></th>\n",
       "      <th>Intensity B_C10</th>\n",
       "      <th>Intensity B_C11</th>\n",
       "      <th>Intensity B_C12</th>\n",
       "      <th>Intensity B_C13</th>\n",
       "      <th>Intensity B_C9</th>\n",
       "      <th>Intensity T_D10</th>\n",
       "      <th>Intensity T_D11</th>\n",
       "      <th>Intensity T_D12</th>\n",
       "      <th>Intensity T_D13</th>\n",
       "      <th>Intensity T_D9</th>\n",
       "    </tr>\n",
       "    <tr>\n",
       "      <th>Protein IDs</th>\n",
       "      <th></th>\n",
       "      <th></th>\n",
       "      <th></th>\n",
       "      <th></th>\n",
       "      <th></th>\n",
       "      <th></th>\n",
       "      <th></th>\n",
       "      <th></th>\n",
       "      <th></th>\n",
       "      <th></th>\n",
       "    </tr>\n",
       "  </thead>\n",
       "  <tbody>\n",
       "    <tr>\n",
       "      <th>B0I1T2</th>\n",
       "      <td>0.654444</td>\n",
       "      <td>0.249738</td>\n",
       "      <td>0.398916</td>\n",
       "      <td>0.093182</td>\n",
       "      <td>0.632168</td>\n",
       "      <td>0.711259</td>\n",
       "      <td>2.116300</td>\n",
       "      <td>0.707581</td>\n",
       "      <td>1.269322</td>\n",
       "      <td>0.747450</td>\n",
       "    </tr>\n",
       "    <tr>\n",
       "      <th>O00299</th>\n",
       "      <td>8.152622</td>\n",
       "      <td>5.083383</td>\n",
       "      <td>10.001347</td>\n",
       "      <td>5.676986</td>\n",
       "      <td>6.620013</td>\n",
       "      <td>6.673946</td>\n",
       "      <td>7.706981</td>\n",
       "      <td>5.400876</td>\n",
       "      <td>7.092689</td>\n",
       "      <td>6.599306</td>\n",
       "    </tr>\n",
       "    <tr>\n",
       "      <th>O00479</th>\n",
       "      <td>2.192267</td>\n",
       "      <td>1.264180</td>\n",
       "      <td>1.390707</td>\n",
       "      <td>1.375329</td>\n",
       "      <td>0.865654</td>\n",
       "      <td>5.607995</td>\n",
       "      <td>2.462308</td>\n",
       "      <td>2.016460</td>\n",
       "      <td>0.254189</td>\n",
       "      <td>1.982009</td>\n",
       "    </tr>\n",
       "    <tr>\n",
       "      <th>O00483</th>\n",
       "      <td>0.542276</td>\n",
       "      <td>0.362703</td>\n",
       "      <td>0.340114</td>\n",
       "      <td>0.456364</td>\n",
       "      <td>0.350333</td>\n",
       "      <td>0.398961</td>\n",
       "      <td>0.596401</td>\n",
       "      <td>0.494543</td>\n",
       "      <td>0.342426</td>\n",
       "      <td>0.441262</td>\n",
       "    </tr>\n",
       "    <tr>\n",
       "      <th>O00567</th>\n",
       "      <td>1.467378</td>\n",
       "      <td>0.631142</td>\n",
       "      <td>2.121145</td>\n",
       "      <td>0.787644</td>\n",
       "      <td>0.809221</td>\n",
       "      <td>0.873788</td>\n",
       "      <td>1.222935</td>\n",
       "      <td>0.387716</td>\n",
       "      <td>0.620541</td>\n",
       "      <td>1.593657</td>\n",
       "    </tr>\n",
       "  </tbody>\n",
       "</table>\n",
       "</div>"
      ],
      "text/plain": [
       "             Intensity B_C10  Intensity B_C11  Intensity B_C12  \\\n",
       "Protein IDs                                                      \n",
       "B0I1T2              0.654444         0.249738         0.398916   \n",
       "O00299              8.152622         5.083383        10.001347   \n",
       "O00479              2.192267         1.264180         1.390707   \n",
       "O00483              0.542276         0.362703         0.340114   \n",
       "O00567              1.467378         0.631142         2.121145   \n",
       "\n",
       "             Intensity B_C13  Intensity B_C9  Intensity T_D10  \\\n",
       "Protein IDs                                                     \n",
       "B0I1T2              0.093182        0.632168         0.711259   \n",
       "O00299              5.676986        6.620013         6.673946   \n",
       "O00479              1.375329        0.865654         5.607995   \n",
       "O00483              0.456364        0.350333         0.398961   \n",
       "O00567              0.787644        0.809221         0.873788   \n",
       "\n",
       "             Intensity T_D11  Intensity T_D12  Intensity T_D13  Intensity T_D9  \n",
       "Protein IDs                                                                     \n",
       "B0I1T2              2.116300         0.707581         1.269322        0.747450  \n",
       "O00299              7.706981         5.400876         7.092689        6.599306  \n",
       "O00479              2.462308         2.016460         0.254189        1.982009  \n",
       "O00483              0.596401         0.494543         0.342426        0.441262  \n",
       "O00567              1.222935         0.387716         0.620541        1.593657  "
      ]
     },
     "execution_count": 3,
     "metadata": {},
     "output_type": "execute_result"
    }
   ],
   "source": [
    "import data_utils    \n",
    "cell_types = [' B_', ' T_']\n",
    "indecies = data_normalized.apply(data_utils.check_three_of_each_type, axis=1,\n",
    "                      cell_types = cell_types)\n",
    "data = data_normalized[indecies]\n",
    "data.head()"
   ]
  },
  {
   "cell_type": "markdown",
   "metadata": {},
   "source": [
    "Finally, we will calculate the coeffients of variation for each protein within each of the two cell types. "
   ]
  },
  {
   "cell_type": "code",
   "execution_count": 4,
   "metadata": {},
   "outputs": [],
   "source": [
    "from scipy.stats import variation\n",
    "from statistics import mean\n",
    "import pandas as pd\n",
    "from numpy import isnan"
   ]
  },
  {
   "cell_type": "code",
   "execution_count": 5,
   "metadata": {
    "scrolled": false
   },
   "outputs": [
    {
     "name": "stdout",
     "output_type": "stream",
     "text": [
      " B_\n",
      "Mean CV:\t 0.423891976004037\n",
      "Min CV: \t 0.0384642685934447\n",
      "Max CV: \t 1.3386985052351754\n",
      "nan:    \t 0\n",
      "Zero:    \t 0\n",
      "Under 10%:\t 15 \t0.03\n",
      "Under 20%:\t 85 \t0.14\n",
      "589\n",
      "\n",
      " T_\n",
      "Mean CV:\t 0.34056569996861485\n",
      "Min CV: \t 0.045101501984886404\n",
      "Max CV: \t 1.1559536845992306\n",
      "nan:    \t 0\n",
      "Zero:    \t 0\n",
      "Under 10%:\t 27 \t0.05\n",
      "Under 20%:\t 152 \t0.26\n",
      "589\n",
      "\n"
     ]
    }
   ],
   "source": [
    "CVs = {}\n",
    "for population in cell_types:\n",
    "    cells_in_population = list(s for s in data.columns.values.tolist() if population in s)\n",
    "    data_by_type = data[cells_in_population]\n",
    "    #now we have a dataframe with just one subpopulation\n",
    "    #Call variation function\n",
    "    var = data_by_type.apply(variation, axis=1, nan_policy='omit')\n",
    "    CVs[population] = var\n",
    "    \n",
    "    #Here we report an overview\n",
    "    print (population)\n",
    "    print ('Mean CV:\\t',mean(var))\n",
    "    print ('Min CV: \\t',min(var))\n",
    "    print ('Max CV: \\t',max(var))\n",
    "    print ('nan:    \\t',len([i for i in var if isnan(i)]))\n",
    "    print ('Zero:    \\t',len([i for i in var if i==0]))\n",
    "    var_under_20 = len([i for i in var if i < .2])\n",
    "    var_under_10 = len([i for i in var if i < .1])\n",
    "    count = len(var)#len([i for i in var if i!=0])\n",
    "    print ('Under 10%:\\t',var_under_10,'\\t{0:.2f}'.format(var_under_10/count))\n",
    "    print ('Under 20%:\\t',var_under_20,'\\t{0:.2f}'.format(var_under_20/count))\n",
    "    print (count)\n",
    "    print ()\n",
    "    \n",
    "\n",
    "CVs = pd.DataFrame.from_dict(CVs)    "
   ]
  },
  {
   "cell_type": "markdown",
   "metadata": {},
   "source": [
    "Next, we will visualize the data, which shows that the majority of proteins have small coefficients of variation."
   ]
  },
  {
   "cell_type": "code",
   "execution_count": 6,
   "metadata": {},
   "outputs": [
    {
     "data": {
      "image/png": "[encoded data removed]",
      "text/plain": [
       "<Figure size 432x288 with 1 Axes>"
      ]
     },
     "metadata": {},
     "output_type": "display_data"
    }
   ],
   "source": [
    "import matplotlib.pyplot as plt\n",
    "import seaborn as sns\n",
    "sns.set(font_scale=1.5)\n",
    "sns.set_style(\"white\")\n",
    "figure = sns.violinplot(data=CVs, width=.5)\n",
    "figure.set_ylabel(\"Coefficient of Variation\")\n",
    "figure.set_xticklabels(['B cells', 'T cells'])\n",
    "#plt.savefig(\"data/figures/CV.png\", dpi=300)\n",
    "\n",
    "plt.show()"
   ]
  },
  {
   "cell_type": "code",
   "execution_count": 7,
   "metadata": {},
   "outputs": [
    {
     "data": {
      "image/png": "[encoded data removed]",
      "text/plain": [
       "<Figure size 432x288 with 1 Axes>"
      ]
     },
     "metadata": {},
     "output_type": "display_data"
    }
   ],
   "source": [
    "import matplotlib.pyplot as plt\n",
    "import seaborn as sns\n",
    "\n",
    "sns.set(font_scale=1.5)\n",
    "\n",
    "sns.set_style(\"white\")\n",
    "figure = sns.distplot(CVs[' B_'], hist = False, label='B cells')#, width=.5)\n",
    "figure = sns.distplot(CVs[' T_'], hist = False, label='T cells')#, width=.5)\n",
    "figure.set_ylabel(\"Relative Frequency\")\n",
    "figure.set_xlabel(\"Coefficient of Variation\")\n",
    "\n",
    "figure.legend(['B cells', 'T cells'])\n",
    "plt.show()"
   ]
  },
  {
   "cell_type": "markdown",
   "metadata": {},
   "source": [
    "Here we summarize the CVs overall. Note that the CVs were calculated within types and so still represent technical variability, not variation between cell types."
   ]
  },
  {
   "cell_type": "code",
   "execution_count": 8,
   "metadata": {},
   "outputs": [
    {
     "name": "stdout",
     "output_type": "stream",
     "text": [
      "Mean CV:\t 0.3822288379863259\n",
      "Min CV: \t 0.0384642685934447\n",
      "Max CV: \t 1.3386985052351754\n",
      "nan:    \t 0\n",
      "Zero:    \t 0\n",
      "Under 10%:\t 42 \t0.04\n",
      "Under 20%:\t 237 \t0.20\n"
     ]
    }
   ],
   "source": [
    "var = CVs.values.flatten()\n",
    "\n",
    "print ('Mean CV:\\t',mean(var))\n",
    "print ('Min CV: \\t',min(var))\n",
    "print ('Max CV: \\t',max(var))\n",
    "print ('nan:    \\t',len([i for i in var if isnan(i)]))\n",
    "print ('Zero:    \\t',len([i for i in var if i==0]))\n",
    "    \n",
    "var_under_20 = len([i for i in var if i < .2])\n",
    "var_under_10 = len([i for i in var if i < .1])\n",
    "count = len(var)#len([i for i in var if i!=0])\n",
    "print ('Under 10%:\\t',var_under_10,'\\t{0:.2f}'.format(var_under_10/count))\n",
    "print ('Under 20%:\\t',var_under_20,'\\t{0:.2f}'.format(var_under_20/count))"
   ]
  },
  {
   "cell_type": "markdown",
   "metadata": {},
   "source": [
    "This shows accuracy in repeatedly characterizing each cell type."
   ]
  },
  {
   "cell_type": "markdown",
   "metadata": {},
   "source": [
    "### Correlation coefficient\n",
    "Next, we show reproducibility of the replicates by Spearman correlation coefficient."
   ]
  },
  {
   "cell_type": "code",
   "execution_count": 9,
   "metadata": {},
   "outputs": [
    {
     "data": {
      "image/png": "[encoded data removed]",
      "text/plain": [
       "<Figure size 432x288 with 2 Axes>"
      ]
     },
     "metadata": {},
     "output_type": "display_data"
    }
   ],
   "source": [
    "correlations = data.corr(method=\"spearman\")\n",
    "\n",
    "labels=['B cells - C10','B cells - C11',\n",
    "                    'B cells - C12','B cells - C13',\n",
    "                    'B cells - C9  ','T cells - D10',\n",
    "                    'T cells - D11','T cells - D12',\n",
    "                    'T cells - D13','T cells - D9  ']\n",
    "\n",
    "correlations.index=labels\n",
    "correlations.columns=labels\n",
    "\n",
    "import numpy as np\n",
    "mask = np.zeros(correlations.shape, dtype=bool)\n",
    "mask[np.triu_indices(len(mask))] = True\n",
    "\n",
    "sns.heatmap(correlations, cmap = 'coolwarm', mask = mask)\n",
    "\n",
    "\n",
    "plt.savefig(\"data/correlations_heatmap_FragPipe.png\", dpi=300,\n",
    "            bbox_inches='tight')"
   ]
  },
  {
   "cell_type": "code",
   "execution_count": 10,
   "metadata": {},
   "outputs": [
    {
     "data": {
      "text/html": [
       "<div>\n",
       "<style scoped>\n",
       "    .dataframe tbody tr th:only-of-type {\n",
       "        vertical-align: middle;\n",
       "    }\n",
       "\n",
       "    .dataframe tbody tr th {\n",
       "        vertical-align: top;\n",
       "    }\n",
       "\n",
       "    .dataframe thead th {\n",
       "        text-align: right;\n",
       "    }\n",
       "</style>\n",
       "<table border=\"1\" class=\"dataframe\">\n",
       "  <thead>\n",
       "    <tr style=\"text-align: right;\">\n",
       "      <th></th>\n",
       "      <th>B cells - C10</th>\n",
       "      <th>B cells - C11</th>\n",
       "      <th>B cells - C12</th>\n",
       "      <th>B cells - C13</th>\n",
       "      <th>B cells - C9</th>\n",
       "      <th>T cells - D10</th>\n",
       "      <th>T cells - D11</th>\n",
       "      <th>T cells - D12</th>\n",
       "      <th>T cells - D13</th>\n",
       "      <th>T cells - D9</th>\n",
       "    </tr>\n",
       "  </thead>\n",
       "  <tbody>\n",
       "    <tr>\n",
       "      <th>B cells - C10</th>\n",
       "      <td>NaN</td>\n",
       "      <td>0.907147</td>\n",
       "      <td>0.883586</td>\n",
       "      <td>0.901227</td>\n",
       "      <td>0.853536</td>\n",
       "      <td>0.831371</td>\n",
       "      <td>0.860728</td>\n",
       "      <td>0.858025</td>\n",
       "      <td>0.842146</td>\n",
       "      <td>0.859466</td>\n",
       "    </tr>\n",
       "    <tr>\n",
       "      <th>B cells - C11</th>\n",
       "      <td>0.907147</td>\n",
       "      <td>NaN</td>\n",
       "      <td>0.870964</td>\n",
       "      <td>0.904864</td>\n",
       "      <td>0.843160</td>\n",
       "      <td>0.807802</td>\n",
       "      <td>0.839607</td>\n",
       "      <td>0.852987</td>\n",
       "      <td>0.822590</td>\n",
       "      <td>0.833973</td>\n",
       "    </tr>\n",
       "    <tr>\n",
       "      <th>B cells - C12</th>\n",
       "      <td>0.883586</td>\n",
       "      <td>0.870964</td>\n",
       "      <td>NaN</td>\n",
       "      <td>0.869417</td>\n",
       "      <td>0.831343</td>\n",
       "      <td>0.790477</td>\n",
       "      <td>0.826577</td>\n",
       "      <td>0.836143</td>\n",
       "      <td>0.801282</td>\n",
       "      <td>0.831921</td>\n",
       "    </tr>\n",
       "    <tr>\n",
       "      <th>B cells - C13</th>\n",
       "      <td>0.901227</td>\n",
       "      <td>0.904864</td>\n",
       "      <td>0.869417</td>\n",
       "      <td>NaN</td>\n",
       "      <td>0.845762</td>\n",
       "      <td>0.791904</td>\n",
       "      <td>0.827737</td>\n",
       "      <td>0.845337</td>\n",
       "      <td>0.803052</td>\n",
       "      <td>0.810408</td>\n",
       "    </tr>\n",
       "    <tr>\n",
       "      <th>B cells - C9</th>\n",
       "      <td>0.853536</td>\n",
       "      <td>0.843160</td>\n",
       "      <td>0.831343</td>\n",
       "      <td>0.845762</td>\n",
       "      <td>NaN</td>\n",
       "      <td>0.790519</td>\n",
       "      <td>0.831165</td>\n",
       "      <td>0.817025</td>\n",
       "      <td>0.798740</td>\n",
       "      <td>0.841786</td>\n",
       "    </tr>\n",
       "    <tr>\n",
       "      <th>T cells - D10</th>\n",
       "      <td>0.831371</td>\n",
       "      <td>0.807802</td>\n",
       "      <td>0.790477</td>\n",
       "      <td>0.791904</td>\n",
       "      <td>0.790519</td>\n",
       "      <td>NaN</td>\n",
       "      <td>0.903738</td>\n",
       "      <td>0.888126</td>\n",
       "      <td>0.904748</td>\n",
       "      <td>0.877557</td>\n",
       "    </tr>\n",
       "    <tr>\n",
       "      <th>T cells - D11</th>\n",
       "      <td>0.860728</td>\n",
       "      <td>0.839607</td>\n",
       "      <td>0.826577</td>\n",
       "      <td>0.827737</td>\n",
       "      <td>0.831165</td>\n",
       "      <td>0.903738</td>\n",
       "      <td>NaN</td>\n",
       "      <td>0.908824</td>\n",
       "      <td>0.909698</td>\n",
       "      <td>0.920002</td>\n",
       "    </tr>\n",
       "    <tr>\n",
       "      <th>T cells - D12</th>\n",
       "      <td>0.858025</td>\n",
       "      <td>0.852987</td>\n",
       "      <td>0.836143</td>\n",
       "      <td>0.845337</td>\n",
       "      <td>0.817025</td>\n",
       "      <td>0.888126</td>\n",
       "      <td>0.908824</td>\n",
       "      <td>NaN</td>\n",
       "      <td>0.898315</td>\n",
       "      <td>0.903249</td>\n",
       "    </tr>\n",
       "    <tr>\n",
       "      <th>T cells - D13</th>\n",
       "      <td>0.842146</td>\n",
       "      <td>0.822590</td>\n",
       "      <td>0.801282</td>\n",
       "      <td>0.803052</td>\n",
       "      <td>0.798740</td>\n",
       "      <td>0.904748</td>\n",
       "      <td>0.909698</td>\n",
       "      <td>0.898315</td>\n",
       "      <td>NaN</td>\n",
       "      <td>0.886300</td>\n",
       "    </tr>\n",
       "    <tr>\n",
       "      <th>T cells - D9</th>\n",
       "      <td>0.859466</td>\n",
       "      <td>0.833973</td>\n",
       "      <td>0.831921</td>\n",
       "      <td>0.810408</td>\n",
       "      <td>0.841786</td>\n",
       "      <td>0.877557</td>\n",
       "      <td>0.920002</td>\n",
       "      <td>0.903249</td>\n",
       "      <td>0.886300</td>\n",
       "      <td>NaN</td>\n",
       "    </tr>\n",
       "  </tbody>\n",
       "</table>\n",
       "</div>"
      ],
      "text/plain": [
       "                B cells - C10  B cells - C11  B cells - C12  B cells - C13  \\\n",
       "B cells - C10             NaN       0.907147       0.883586       0.901227   \n",
       "B cells - C11        0.907147            NaN       0.870964       0.904864   \n",
       "B cells - C12        0.883586       0.870964            NaN       0.869417   \n",
       "B cells - C13        0.901227       0.904864       0.869417            NaN   \n",
       "B cells - C9         0.853536       0.843160       0.831343       0.845762   \n",
       "T cells - D10        0.831371       0.807802       0.790477       0.791904   \n",
       "T cells - D11        0.860728       0.839607       0.826577       0.827737   \n",
       "T cells - D12        0.858025       0.852987       0.836143       0.845337   \n",
       "T cells - D13        0.842146       0.822590       0.801282       0.803052   \n",
       "T cells - D9         0.859466       0.833973       0.831921       0.810408   \n",
       "\n",
       "                B cells - C9    T cells - D10  T cells - D11  T cells - D12  \\\n",
       "B cells - C10         0.853536       0.831371       0.860728       0.858025   \n",
       "B cells - C11         0.843160       0.807802       0.839607       0.852987   \n",
       "B cells - C12         0.831343       0.790477       0.826577       0.836143   \n",
       "B cells - C13         0.845762       0.791904       0.827737       0.845337   \n",
       "B cells - C9               NaN       0.790519       0.831165       0.817025   \n",
       "T cells - D10         0.790519            NaN       0.903738       0.888126   \n",
       "T cells - D11         0.831165       0.903738            NaN       0.908824   \n",
       "T cells - D12         0.817025       0.888126       0.908824            NaN   \n",
       "T cells - D13         0.798740       0.904748       0.909698       0.898315   \n",
       "T cells - D9          0.841786       0.877557       0.920002       0.903249   \n",
       "\n",
       "                T cells - D13  T cells - D9    \n",
       "B cells - C10        0.842146        0.859466  \n",
       "B cells - C11        0.822590        0.833973  \n",
       "B cells - C12        0.801282        0.831921  \n",
       "B cells - C13        0.803052        0.810408  \n",
       "B cells - C9         0.798740        0.841786  \n",
       "T cells - D10        0.904748        0.877557  \n",
       "T cells - D11        0.909698        0.920002  \n",
       "T cells - D12        0.898315        0.903249  \n",
       "T cells - D13             NaN        0.886300  \n",
       "T cells - D9         0.886300             NaN  "
      ]
     },
     "execution_count": 10,
     "metadata": {},
     "output_type": "execute_result"
    }
   ],
   "source": [
    "from numpy import nan\n",
    "#drop self-correlations of 1\n",
    "for sample in correlations.columns:\n",
    "        correlations[sample][sample]=nan\n",
    "        \n",
    "correlations"
   ]
  },
  {
   "cell_type": "markdown",
   "metadata": {},
   "source": [
    "Here we split the dataset by cell type and perform the same correlation test. We then take the average correlation between replicates."
   ]
  },
  {
   "cell_type": "code",
   "execution_count": 11,
   "metadata": {},
   "outputs": [
    {
     "name": "stdout",
     "output_type": "stream",
     "text": [
      " B_ average correlation:\t 0.8711005899668742\n",
      " T_ average correlation:\t 0.9000559082660787\n"
     ]
    }
   ],
   "source": [
    "from numpy import nan\n",
    "\n",
    "corr_type = {}\n",
    "corr_summary={}\n",
    "for cell_type in cell_types:\n",
    "    \n",
    "    cells_of_type = list(s for s in data.columns.values.tolist() if cell_type in s)\n",
    "    data_by_type = data[cells_of_type]\n",
    "    corr_of_type = data_by_type.corr(method='spearman')\n",
    "    \n",
    "    #drop self-correlations of 1\n",
    "    for sample in corr_of_type.columns:\n",
    "        corr_of_type[sample][sample]=nan\n",
    "    \n",
    "    corr_type[cell_type] = corr_of_type\n",
    "    \n",
    "    #take the average of the correlations between a sample and  \n",
    "    #    the other samples of the same type\n",
    "    summary = corr_of_type.apply(lambda x: mean(x.dropna()))\n",
    "    corr_summary[cell_type] = mean(summary)\n",
    "    \n",
    "    print (cell_type,\"average correlation:\\t\",mean(summary))"
   ]
  },
  {
   "cell_type": "markdown",
   "metadata": {},
   "source": [
    "With the average correlation between each set of replicates, we now average them to get the overall average. "
   ]
  },
  {
   "cell_type": "code",
   "execution_count": 12,
   "metadata": {},
   "outputs": [
    {
     "data": {
      "text/plain": [
       "0.8855782491164765"
      ]
     },
     "execution_count": 12,
     "metadata": {},
     "output_type": "execute_result"
    }
   ],
   "source": [
    "mean(corr_summary.values())"
   ]
  },
  {
   "cell_type": "markdown",
   "metadata": {},
   "source": [
    "Now, we calculate the average correlation when comparing a B cell replicate to a T cell replicate. We expect this to be lower than either of the two above numbers comparing replicates within a cell type."
   ]
  },
  {
   "cell_type": "code",
   "execution_count": 13,
   "metadata": {},
   "outputs": [
    {
     "name": "stdout",
     "output_type": "stream",
     "text": [
      "Mean cross-type correlations:\n"
     ]
    },
    {
     "data": {
      "text/plain": [
       "0.8261107655025403"
      ]
     },
     "execution_count": 13,
     "metadata": {},
     "output_type": "execute_result"
    }
   ],
   "source": [
    "B_cells = list(s for s in correlations.index if 'B cells' in s)\n",
    "T_cells = list(s for s in correlations.index if 'T cells' in s)\n",
    "\n",
    "corr_cross_types = []\n",
    "\n",
    "for B in B_cells:\n",
    "    for T in T_cells:\n",
    "        c = correlations[B][T]\n",
    "        corr_cross_types.append(c)\n",
    "print(\"Mean cross-type correlations:\")        \n",
    "mean(corr_cross_types)"
   ]
  },
  {
   "cell_type": "code",
   "execution_count": null,
   "metadata": {},
   "outputs": [],
   "source": []
  }
 ],
 "metadata": {
  "kernelspec": {
   "display_name": "Python 3",
   "language": "python",
   "name": "python3"
  },
  "language_info": {
   "codemirror_mode": {
    "name": "ipython",
    "version": 3
   },
   "file_extension": ".py",
   "mimetype": "text/x-python",
   "name": "python",
   "nbconvert_exporter": "python",
   "pygments_lexer": "ipython3",
   "version": "3.7.7"
  }
 },
 "nbformat": 4,
 "nbformat_minor": 2
}
